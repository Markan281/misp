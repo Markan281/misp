{
  "nbformat": 4,
  "nbformat_minor": 0,
  "metadata": {
    "colab": {
      "name": "pulp_podstawy_przyklad.ipynb",
      "provenance": [],
      "authorship_tag": "ABX9TyMj/hk3yNdcl5SBlNQ9xQed",
      "include_colab_link": true
    },
    "kernelspec": {
      "name": "python3",
      "display_name": "Python 3"
    }
  },
  "cells": [
    {
      "cell_type": "markdown",
      "metadata": {
        "id": "view-in-github",
        "colab_type": "text"
      },
      "source": [
        "<a href=\"https://colab.research.google.com/github/Markan281/misp/blob/main/pulp_podstawy_przyklad1_zajecia3.ipynb\" target=\"_parent\"><img src=\"https://colab.research.google.com/assets/colab-badge.svg\" alt=\"Open In Colab\"/></a>"
      ]
    },
    {
      "cell_type": "code",
      "metadata": {
        "colab": {
          "base_uri": "https://localhost:8080/"
        },
        "id": "jzWeCNmyG1X_",
        "outputId": "3e697e71-a9a8-41a0-ebf8-0f5949a47989"
      },
      "source": [
        "!pip install pulp"
      ],
      "execution_count": 1,
      "outputs": [
        {
          "output_type": "stream",
          "text": [
            "Collecting pulp\n",
            "\u001b[?25l  Downloading https://files.pythonhosted.org/packages/89/0c/6d80f5f81a92d1733cc5ca180491b8a3cd5839e335627a0046c81b7d3d3d/PuLP-2.3.1-py3-none-any.whl (40.6MB)\n",
            "\u001b[K     |████████████████████████████████| 40.6MB 96kB/s \n",
            "\u001b[?25hCollecting amply>=0.1.2\n",
            "  Downloading https://files.pythonhosted.org/packages/f3/c5/dfa09dd2595a2ab2ab4e6fa7bebef9565812722e1980d04b0edce5032066/amply-0.1.4-py3-none-any.whl\n",
            "Requirement already satisfied: pyparsing in /usr/local/lib/python3.6/dist-packages (from amply>=0.1.2->pulp) (2.4.7)\n",
            "Requirement already satisfied: docutils>=0.3 in /usr/local/lib/python3.6/dist-packages (from amply>=0.1.2->pulp) (0.16)\n",
            "Installing collected packages: amply, pulp\n",
            "Successfully installed amply-0.1.4 pulp-2.3.1\n"
          ],
          "name": "stdout"
        }
      ]
    },
    {
      "cell_type": "code",
      "metadata": {
        "colab": {
          "base_uri": "https://localhost:8080/"
        },
        "id": "6Wjwon66G9NU",
        "outputId": "8b3634c3-df4f-44f6-86b4-00bd1e6a8837"
      },
      "source": [
        "import pulp\n",
        "print(pulp.__version__)"
      ],
      "execution_count": 2,
      "outputs": [
        {
          "output_type": "stream",
          "text": [
            "2.3.1\n"
          ],
          "name": "stdout"
        }
      ]
    },
    {
      "cell_type": "code",
      "metadata": {
        "colab": {
          "base_uri": "https://localhost:8080/"
        },
        "id": "bFZ27uchHAL0",
        "outputId": "f990d6e5-5afd-472e-eb5e-8c44bc200365"
      },
      "source": [
        "from pulp import *\n",
        "\n",
        "#Nazwa problemu\n",
        "prob = LpProblem(\"The Whiskas Problem\",LpMinimize)\n",
        "#Zmienne decyzyjne\n",
        "x1=LpVariable(\"ChickenPercent\",0,None,LpInteger)\n",
        "x2=LpVariable(\"BeefPercent\",0,None,LpInteger)\n",
        "x3=LpVariable(\"PorkPercent\",0,None,LpInteger)"
      ],
      "execution_count": 3,
      "outputs": [
        {
          "output_type": "stream",
          "text": [
            "/usr/local/lib/python3.6/dist-packages/pulp/pulp.py:1198: UserWarning: Spaces are not permitted in the name. Converted to '_'\n",
            "  warnings.warn(\"Spaces are not permitted in the name. Converted to '_'\")\n"
          ],
          "name": "stderr"
        }
      ]
    },
    {
      "cell_type": "code",
      "metadata": {
        "id": "_vUOec0rHfFM"
      },
      "source": [
        "#Warunki\n",
        "prob += 0.013*x1 + 0.008*x2 + 0.006*x3, \"Total Cost of Ingredients per can\"\n",
        "prob += x1 + x2 + x3 == 100, \"PercentagesSum\"\n",
        "prob += 0.100*x1 + 0.200*x2 + 0.070*x3 >= 10.0, \"ProteinRequirement\"\n",
        "prob += 0.080*x1 + 0.100*x2 + 0.120*x3 >= 6.0, \"FatRequirement\"\n",
        "prob += 0.001*x1 + 0.003*x2 + 0.002*x3 <= 1.0, \"FibreRequirement\"\n",
        "prob += 0.002*x1 + 0.005*x2 <= 0.4, \"SaltRequirement\""
      ],
      "execution_count": 4,
      "outputs": []
    },
    {
      "cell_type": "code",
      "metadata": {
        "colab": {
          "base_uri": "https://localhost:8080/"
        },
        "id": "_qabAgybHlvy",
        "outputId": "2950e23c-e1a2-425d-847f-5b25c0ef1350"
      },
      "source": [
        "#Rozwiązywanie problemu\n",
        "prob.solve()\n",
        "print(\"Status:\", LpStatus[prob.status])"
      ],
      "execution_count": 5,
      "outputs": [
        {
          "output_type": "stream",
          "text": [
            "Status: Optimal\n"
          ],
          "name": "stdout"
        }
      ]
    },
    {
      "cell_type": "code",
      "metadata": {
        "colab": {
          "base_uri": "https://localhost:8080/"
        },
        "id": "PRgvJ-ibHstU",
        "outputId": "af41c46e-4506-430e-b745-1e8957e7c832"
      },
      "source": [
        "#Wynik\n",
        "for v in prob.variables():\n",
        "    print(v.name, \"=\", v.varValue)"
      ],
      "execution_count": 6,
      "outputs": [
        {
          "output_type": "stream",
          "text": [
            "BeefPercent = 24.0\n",
            "ChickenPercent = 0.0\n",
            "PorkPercent = 76.0\n"
          ],
          "name": "stdout"
        }
      ]
    }
  ]
}