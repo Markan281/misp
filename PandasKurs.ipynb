{
  "nbformat": 4,
  "nbformat_minor": 0,
  "metadata": {
    "colab": {
      "name": "PandasKurs.ipynb",
      "provenance": [],
      "authorship_tag": "ABX9TyOOIYNk5L5Fdh3+JbnbkB53",
      "include_colab_link": true
    },
    "kernelspec": {
      "name": "python3",
      "display_name": "Python 3"
    }
  },
  "cells": [
    {
      "cell_type": "markdown",
      "metadata": {
        "id": "view-in-github",
        "colab_type": "text"
      },
      "source": [
        "<a href=\"https://colab.research.google.com/github/Markan281/misp/blob/main/PandasKurs.ipynb\" target=\"_parent\"><img src=\"https://colab.research.google.com/assets/colab-badge.svg\" alt=\"Open In Colab\"/></a>"
      ]
    },
    {
      "cell_type": "markdown",
      "metadata": {
        "id": "piWmTt-qpHdk"
      },
      "source": [
        "\r\n",
        "#**Kurs Pandas** \r\n",
        "Kurs można znaleźć na tej stronie : https://www.kaggle.com/residentmario/creating-reading-and-writing\r\n",
        "\r\n",
        "Zgodnie z zaleceniem prowadzącego trzeba zrealizować 3 pierwsze zadania.\r\n"
      ]
    },
    {
      "cell_type": "code",
      "metadata": {
        "colab": {
          "base_uri": "https://localhost:8080/"
        },
        "id": "-o2YvJxCrJ_l",
        "outputId": "2cc57d12-c8a5-4583-caa1-2ff5c673c86d"
      },
      "source": [
        "!git clone https://github.com/Kaggle/learntools.git\r\n",
        "!mv learntools learntools_dir\r\n",
        "!mv learntools_dir/learntools learntools"
      ],
      "execution_count": 6,
      "outputs": [
        {
          "output_type": "stream",
          "text": [
            "Cloning into 'learntools'...\n",
            "remote: Enumerating objects: 332, done.\u001b[K\n",
            "remote: Counting objects: 100% (332/332), done.\u001b[K\n",
            "remote: Compressing objects: 100% (193/193), done.\u001b[K\n",
            "remote: Total 15003 (delta 212), reused 212 (delta 137), pack-reused 14671\u001b[K\n",
            "Receiving objects: 100% (15003/15003), 103.04 MiB | 29.15 MiB/s, done.\n",
            "Resolving deltas: 100% (11069/11069), done.\n"
          ],
          "name": "stdout"
        }
      ]
    },
    {
      "cell_type": "code",
      "metadata": {
        "colab": {
          "resources": {
            "http://localhost:8080/nbextensions/google.colab/files.js": {
              "data": "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",
              "ok": true,
              "headers": [
                [
                  "content-type",
                  "application/javascript"
                ]
              ],
              "status": 200,
              "status_text": ""
            }
          },
          "base_uri": "https://localhost:8080/",
          "height": 73
        },
        "id": "L4wyr0IGsRar",
        "outputId": "6f6759fa-4763-4f2f-8893-c03b7e709bd6"
      },
      "source": [
        "import pandas as pd\r\n",
        "import io\r\n",
        "from google.colab import files\r\n",
        "Plik = files.upload()\r\n",
        "wine_reviews_file_path = io.BytesIO(Plik['winemag-data_first150k.csv'])\r\n",
        "wine_reviews = pd.read_csv(wine_reviews_file_path)"
      ],
      "execution_count": 13,
      "outputs": [
        {
          "output_type": "display_data",
          "data": {
            "text/html": [
              "\n",
              "     <input type=\"file\" id=\"files-aba062f6-69dc-4a36-9aa4-24311eef62cc\" name=\"files[]\" multiple disabled\n",
              "        style=\"border:none\" />\n",
              "     <output id=\"result-aba062f6-69dc-4a36-9aa4-24311eef62cc\">\n",
              "      Upload widget is only available when the cell has been executed in the\n",
              "      current browser session. Please rerun this cell to enable.\n",
              "      </output>\n",
              "      <script src=\"/nbextensions/google.colab/files.js\"></script> "
            ],
            "text/plain": [
              "<IPython.core.display.HTML object>"
            ]
          },
          "metadata": {
            "tags": []
          }
        },
        {
          "output_type": "stream",
          "text": [
            "Saving winemag-data_first150k.csv to winemag-data_first150k (2).csv\n"
          ],
          "name": "stdout"
        }
      ]
    },
    {
      "cell_type": "code",
      "metadata": {
        "colab": {
          "base_uri": "https://localhost:8080/"
        },
        "id": "bmIbLMQfpG4J",
        "outputId": "4684a177-bbc1-477a-ddd3-1ebfabd5d8fa"
      },
      "source": [
        "pd.set_option('max_rows', 5)\r\n",
        "from learntools.core import binder; binder.bind(globals())\r\n",
        "\r\n",
        "print(\"Setup complete.\")"
      ],
      "execution_count": 26,
      "outputs": [
        {
          "output_type": "stream",
          "text": [
            "WARNING:root:Ignoring repeated attempt to bind to globals\n"
          ],
          "name": "stderr"
        },
        {
          "output_type": "stream",
          "text": [
            "Setup complete.\n"
          ],
          "name": "stdout"
        }
      ]
    },
    {
      "cell_type": "markdown",
      "metadata": {
        "id": "uknPy8P11Qtl"
      },
      "source": [
        "Exercise 1: Create a DataFrame that looks like this:\r\n",
        "\r\n",
        "![image.png](data:image/png;base64,iVBORw0KGgoAAAANSUhEUgAAATQAAABcCAYAAADgUUkcAAAXxUlEQVR4Ae2dh5cUxRbG/feEFZacJGcByUgOkpEssAICbyUJigfJIkEQJeccl+Ajw5LN1ju/4t2xp6erZ2e2e3Z69vY5fbq7ct371de3blXPvGP0UAmoBFQCJSKBd0qkH9oNlYBKQCVglNAUBCoBlUDJSEAJrWRUqR1RCagEMgitquqW4bxz55dEn1VVNw1n0vtR39uvekz2OIwLvzdv3jKc/kMJLeHEHRdgiqVcJTQltCAs1pjQJPPr129Mks9S6UeSdRBF21WPyR6HUWAgqIz//veu4fQfGRZaqQCoVPoRpMz6FKZ6VEILwrsSWsItziCl1ocwJTQltCCcK6EpoSXShaCEpoSmhPb6TWp1M0gYGpacQaKElhxdFXJcqYWmFppaaIqBRGIgiCiV0BTMiQSzWmhqoSmh6ZQzkeQVBFwlNCW0IFyohaYWWiJJTglNCU0JrUAW2rNnz8327TvsefTo0aIljJMnT5nWrVub7t17FG0bg0BLWByEduHCxZTeRH9y3bHjO3Po0GFz/fqNxMnKJcNSDFcLLQYLbc+evebdd9+1Z6tWrcyLFy+LchAcPXrs/21sXZTtCxtwcRDaihUrUnoT/QVde/XqZb7/flfiZBYmz1KJU0KLgdAmTPjYDowGDRra6/79PxYl+JXQ0qdtQmhdu3Yz69atTztXr15jxo0bZ5o2bZYivU2bNhelXkuFnPLphxJaxIT26NFj06hRI1NW9p6ZO3euBf+kSZOKEvhKaMGENnz4cKe+sLZnzZpt9free++Zp0+rnWnzGZCaJ10nucpDCS1iQtu8eYsF+8iRo8zp06ftfePGjc3jx0+KDvhKaOmDRyy0MEJjgDFoZCpazD7SXMmgFNIroUVMaMOGDbNg37ZtmyWwjh072ectW7YqoUUo6zh9aNkIDSutYcO37oQ9e/YUnV5LgZjy7YMSWsSDDL9Zo0b/WmRLly61hDZs2EehwP/ii5VmypQp5uTJk6a6+pnZuHGjGTt2rGnTpq0ZMGCg+c9/Ks3z5y8Cy5gyZarNy3T39u07ZuXKlWbgwEGmXbt2hsG5Y8eOwHzZLLSXL1+Z9eu/MmPHjjPt2r1vPvigj5k9e7Y5dep0YHmA8OzZs+bjjyeabt26mZYtW5revT8wFRWfmbt37znz5APeuiS006fPpCy0q1evZfTr/v0H5rPPFpt+/fqZVq1aG15q6H/nzu8z0tL3K1euWv19/vkyG89q6qhRo6z+2rfvYEaPHh0q88uXr5ipU6eZnj17mRYtWpru3bsb/Li0M0i2LFqBNVZuX716bb79dpPp37+/YQEL/+HMmTMtjoLyEpZrfeQpFC6U0CIktLVrv7RAHz9+QgpIFy9esmEQHYPQBZKhQ4fadGwTAMBMaTp16mSJRKY3PXv2NA8fPswoo0GDBjb92bPnTMeOHa310KNHD9Os2b8ObEjPX3cYoT148NAOQupmkDAgqZ9+4DvauvWtBeotkwEibYFMIVV8iZTBoL5//35GG7z5c7mvK0K7deu2JQ76NHnylIz+0C62whD/lozGpJ4Jq6ioyMgjeujbt599gSBD/LDt27dPyROL8Ny58xl5Dxz4KWUt9u7d2+DqwMVBXZSzb9/+jDy8HIlftKjCgFXuwUqbNm3sPc+0/cmTpxl586mvkLhQQouQ0LBgAMOuXbvTgMCbk/C1a9emhXsHsBBahw4dTJ8+fdL2O7E/CguJMgChNx/3QiLk5U0t/jrevlgFEBB5/eCWgYQV4S9TVmqxzryO74MHD5ny8iZ2EN24UZXKx967pk2b2nrwI1I3ZdIWrDTqx1r115Pvc5yE1rZtWzNt2vS0k4WdgQMH2n5D1rgQpI/ePpCOvmIByXYdrt99t9OGl5WV2Z+A9+b5Vw+tLPmBH6xj0kCgvJwok1VWbz7qx4In7ptvvknFIfOFCxfa8M6dO6fCJa8QGv3kJcWLUOLwCTZp0sTmxTqXcK751FdoXCihRURomOEAi0HNlNELhJUrV9k43qDecO+9EBrbAu7dy7RkmIZQPuTElMabVwitf/8BaeGSZtmy5TYvRClhXP8dSOmEdv78eUuSlMtPGnvzcA+p0hZWcSXuzJmzNow3u3+gE7d06ecGopP0tb3GSWj0LeycPn2GXfAJ6gMWEi+2a9euZ/QVC4xymfJ584oeiAuS0ZYtbxeaunTpkpYPGVDXkCFD0sIpG1ITXPiteiE0yDVoygyZ0xZWc73tzKe+QuNCCS0iQsP/AQiwkLwg4J7fvyeOkymoP55nIbRPP/00MB6S4I1KGcePH09LI8B1OagBLfkgQy/ZyEDyW2hCWEOGDE2rR9r9008/2/Lwk0kY0yHqYIoJ8CU8rmuchNav34fWZ4WvUE5eKLgDPvlkprVgkHllZWVO/cS3iIzWrVuXlk/0QFzQNA99E4fllIs80Sv5/FNVITQINqi8ysovbL7Ro8cExgflISyovkLjQgktIkKT1UyI7eefD2acEr948ZJAkAih4aB1AWbQoMEWaH7/lRBakFVAWUx5JI3X4pKB5Ce0MWPGpADt32DKMw5vBgq+GmkrUwuZFpeXl5tp06ZZfxCyCBqkki/fa5yElm2V89Kly6Z58xZWBq5N0yzgQIIs7rDgwxSwc+cuNg/P3n6LHvBVesPlXqwcpvoS5r8+fPjIWn5ff73BsP1k3rx51jWAno4fP5GWTwjN6+v1lodrhHz4cr3h3vua1ldoXCihRUBoJ06ctAAABNlOHL1eK0lAIoS2c+dOJ4hY9aR8VjElH1chK5TpDffeyw532irhMpD8hCY+m2x9Id7rX+PbUKZF/nxYbfiWolzprEtCQ35Y0vSTbToiT664AyZNmpzyJ3plIXpyEZpfD1JuGKHh/8KSZvrorct77yI0LEapw3sNI7R86iskLpTQIiA03oYACKfxkiVLA08sM9m7dORI5gfrQmibNrktNMqnHpeF5vpwOlcLjW0i1DNnzlxrZWBpuE5xXsuAgKwZgF999bWZN2++wa8n/R4+fETgAJK8uVzrmtBwwiMjVgal3fg+mYYTzgf/+E6ZstJWLBVZaImK0NjiIwsxECufYp0/f8H6YNE5Fh9tiYrQ8q0P+RQKF0potSQ0gMP+HYATRFQCdq5MZUjHPh9vOPdCaDjP/XHyzJaMIIDKm5/pnaT1Xplmko+tAF7r0GWh4QckfdiUw1t+tnve0NJGv4M6W15XfF0Tmky78bdJG8V5jzUsK80Sx1XILipCE+c92PHWwz0DGx0G4UWmnLlaaPnW52+bPMeBCyW0WhIaPhRAw1K+lyxEad4rS/2kZc8Pb2xvnBAaU7agclh5JC+OffaIefMKWeCw9obLPX4v8vqdwC5Cw7oiPT4y/4otZWKJ/PDDPnP48JFUfew1mj9/vmHBQOqVK6QvloTLipS0Nb3WJaExzRZyos/SZvl2N4goWAUXSzUqQmMDLXrybtmQtmzc+K2NIz4qCy2f+gqNCyW0WhIamysBzcKFi1LAFlD5r7y1+YqA9P69akJoxLHNwpsX8hs5cqTNt2DBgrQ40gmh4ati46M3L/uY2J9GuXv3/pAW5yI0SEz2N0GG3vK4x8J82+eFqTgZQOyOh8C8ebZt227TY7kEkbU3bU3v64rQWLVj6kz/IXzvbnxWPQlnwcD7IqCtbJkRP9fMmbPS5OPSg8jC5UOTz+xGjEifyjPNRdZSn/9LkXwttHzqKzQulNBqQWis3rGiB4j5EF0AGHYVPwobVr3phNBksAwePNh+7gS5yYZdrMCgPWpCaOTFCsBCWLNmrYH8yEP7glbuwgYSv/clG3IpD6uNjZbSPkiSgSp9YCrZtWtXWxftXbVqtdmw4RvrNxLrzL+YIXnzucZJaLS3T5++aSc+MfFJIU9eHv4XBNtjZJc+bgimaBMnTrLWKdYxLxvyoiPvlo8wPSAbF6GxjYTyOLHs+SwNcuNrDvyfQrD0x2s550to+dRXaFwoodWC0ETBQbuxXYOUvWIA0D91FEJj+oBFIxYSaSEsgOpaJRRCwyGMb0cGFXkZeFiPfquJ9mUbSJD028+d3n5aJW1huZ+9df4+EjZ+/Hg7oEgrJ3358sv0vVf+vLk+x0lo0m7vFcsaHyYLJqtXr3bqAj+md6UXEkRe8iKaMeMTS2hsa5E+Z9ODi9DIjwXdvHnzlKxpI/rGEsY1gY+Pfng37OZLaPnWV0hcKKHVgtAEkFFcvYRGeexjAsgsNLDnJ6wOITT8NKTjI/Vjx45bq9HvqwsrxxXHVJnyWOWSgelKSzjfbOLwZXBjtQSRaVj+msTFQWg1qbemaRhY9D1ois3KcNCiQU3L9qejDkgD94I/jmcw4J0CB6XJJSzf+gqBCyW0IiW0XADmJ7Rc8iY1bbETWlLlmvR2K6EpoQW+1Ysd2Epo6T9OWez6KlT7lNCU0JTQigQDhRr0pVyPElqRgJlNmaxo1nS11AtK8nHWxL/lzZfke7XQ1EILwq8SWpEQWpByNMw9aJXQ3LKpz7hRQlNC0ymnYiCRGAgibiU0BXMiwawWmlpoSmiv39jd7QyGIGFoWHIGiRJacnRVyHGlFppaaIkkdyU0JbQgolRCU0JTQlMMJBIDSmg65SwZ4KqFphZarQiNb8U4BUhJvUo/xDTV6137Y4BJk4PqMZl6ixtnggvjO97xPVsyU0JTEMUNyJqWL8CtaXpNVz+wK7jw81cGoYlFFmTmJSlMgO3vsD4nSwJPq6sNpx4qAa8EXLhQQvNKSe+LTgIu4BZdQ7VBBZWACxdKaAVVg1aWqwRcwM21HE1fWhJw4UIJrbT0XHK9cQG35DqqHcpJAi5cKKHlJEZNXGgJuIBb6HZofcUlARculNCKS0/aGp8EXMD1JdPHeiYBFy6U0OoZEJLWXRdwk9YPbW+0EnDhQgktWjlraRFLwAXciKvR4hImARculNASpsj61lwXcOubHLS/6RJw4aLghBb0d19xbNiNe2Pt33//nS7hGj79888/NUypyZCAC7hRSSdfPUZVv5aTnwRcuCgIoV28eMnMmDHDdOvWzf5tfe/eve0/Prv+XzAKgouD0H788Uczbtw406lTJ/sHwvzR7IQJE8yFCxdCtQKJ8cfCo0ePNi1btjRt27a1+Xbu3BmaTyPjIbRr166ZyZMn23+A54+g0Sd6PXz4cI1F/vvvv5sePXpYPdY4kyaMTAJ1RmiHDh02zZo1s//qXFZWZkEk/y/Zrl07c/78+Vh+GSJKQvvzzz/tAKD9nO+//77p16+fJSeeGRT8y3bQAfCnTp1q85G2Q4cOpk2bNqnnxYsXG7XagiT3NswFXHeO8Ji1a9dafaEL9DBw4EADDnnmnDt3bngB/4/lJUb6vn371ii9JopWAi5cxGqh8QEpg52/qJ81a3bqX6T516LRo8fYcP7enn8Aj8Iq85YRJaGtW7fOgpc3+dmzZ1Oa+euvv8yGDRtsHP08c+ZMKk5u5s+fb+Nbt25tLl68aIMhMKyB8vJyG8cg0yNYAi7gBqcODz116pTFY6NGjczWrVvTXiRYy4RDUrt27Qot6NGjR5YIldBCxRRrpAsXsRJaRcVnlrQGDRpsXr58lUZaT548tdYaZLdu3fq0OC8x5XsfFaFhnTVt2tQC/fjx44FKmjVrlo2fN29eWvzz589TeU+cOJEWx8P27dttPiyEP/74IyNeA6Kdcg4YMMDKe8mSJYGiXbRokY3v379/YPzMmTPNsGHD7IwDMlNCCxRTQQILTmhPn1ab5s1bWELbunVbIGFVVn5h4zt37myiXiyIitCuX79ugQupuaaGvNEBN9MX77F+/Xobjq8t6IDEsFDJu3v37qAk9T7MBdxcBcOLSSxil8/z0KFDVhdNmjQJ1DUWOi4DTixuJbRctRBdehcuYrPQ8J1hfTVo0NDcv38/kNAuXLho05DuypWrgWnq2kKrrq6200P+GNh1bNy40YJ7zJgxaUk++ugjG46fzHXgnGZgTJ8+3ZWkXoe7gJurUJ48eWKmTZtmz1evXgVmZ9EHXfCSyXbs2bPHplUfWjZJxRPvwkVshLZt23ZLVqzouUgJq0wWCCBAV7p8wqOy0LKpgzc/oGYg+H0vsqrL1NJ1sJhAXqYyemRKwAXczJS1D1m4cKHVxZAhQ7IWpoSWVUSxJnDhIjZCW7VqtSU0lrbDCEmmpdu2BU9Lw/KGxcVJaOxdev36tV2hHTFihB0Ey5Yty5imiO/twIEDTuVu2rTJ5u/ataszTX2OcAE3apn88ssvqSnpvn37shavhJZVRLEmcOEiNkJjdY+p5ODBg0MJrXPnLjbdypWrQtOFkVdQXJyEJlNMLCtWN5mq+I8XL15YoiJN2HR17969Np3Lb+Mvt749u4AbpRyYgvbq1cvqgf1oLl+pt04lNK80Cn/vwkVshMaKEIQ2fPjwUKLCgiPdsmXLQ9MFkVZYWJyEtmXLltTbHMJiWu2fVrK0TxynywkNDLDeSAMxsg1Ej3QJuICbnir/p19//dUMHTrU6gAs8iKqyaGEVhMpxZfGhYvYCI0pGETVp0/fUKJq06atTYfVE0ZQucbFSWiiJhzNmzdvNq1atbIDgumjHPjWICnI6siRIxKccZWtG+3bt8+I04Bot2345fnbb7+ZkSNHWh11797dPH782J/E+ayE5hRNQSIKTmh86gOhdezYKZSoysrebrzdv//H0HTFSGiiOVnub9GiheGNL4fsQA/bkiGbdtkjpUemBFzAzUyZW4ifzLCoczmU0HKRVvRpXbiIzULbu/cHS2js/Xnx4mUgWWFFQXqc585F+wlUISw0r5rESrt06VIqmM+jsNAgLdexYMECm2bixImuJPU63AXc2giFlw6uEHTDd8VY2rkeSmi5Siza9C5cxEZoN25UZd2SwRQNMisvb2L4ciBXKywsfVSEtnz5cjt1nDJlSqhGWKVkgBw9ejSVbvbs2TaM/Wiug82a5Fu1apUrSb0OdwE3X6F4yezDDz80z549y6soJbS8xBZZJhcuYiM0yGbkyFGWsObNmx9IVrwlITQ+CA4jp3zioiI02WzJdNLlMPYuAHjf9pcvX7ZkxTeCbND1H/KBc+PGjXPy3/jLKeVnF3Dz6TNkxn4/XiCDBg0yL1++zKcYm0cJLW/RRZLRhYtYCe3AgZ8sYTVs2NBw7yWm9eu/snEQ2uXLV9LivOnyvY+K0N68eWN/XoZBwM//+HeZQ3LyRcCoUaMylMXAIS/kzUKBHOTDEU0cO9j1CJaAC7jBqd2h6FFWM9EXz7U5lNBqI73a53XhIlZC40sArC9ICytk/PgJprKy0gwfPsJ+EkV41PvPhACjIjREf+zYsdQ2Db7ho0/s8J8zZ05qhZOfFPJaZ6IyvgVlBRPiwl+zYsUKU1FRkSLJnj17mgcPHkhyvfok4AKuL1nWR344AB1w4u9kq03YyUZb/4FPFH1xik7xEUsY15s3b/qz6XMMEnDhIlZCE3JZs2atadr07W+iQWKcLVq0NNu374jcMpM6oyQ09FFVVWU3CcugkCtEza80uKaj5IWwsNRkGwd5uefbz7B8MeAgcUW6gJtrR7y/SSe6C7vevn07owr58iMs35UrVzLyaUD0EnDhoiCEBslgrfHLtbt37zFXr16L/Nc1hMjkGjWhiUqYcuL7OnjwoLl161baNFLSuK6QF9YeXw7UdsrjqqPUwl3ALbV+an9yk4ALFwUjNCGaQl3jIrTcxK6paysBF3BrW67mT7YEXLhQQku2Xku+9S7glnzHtYOhEnDhQgktVGwaWdcScAG3rtul9detBFy4UEKrW71o7Vkk4AJulmwaXeIScOFCCa3EFZ/07rmAm/R+aftrJwEXLpTQaidXzR2zBFzAjblaLb7IJeDChRJakSuuvjfPBdz6Lpf63n8XLpTQ6jsyirz/LuAWebO1eTFLwIULJbSYBa/F104CLuDWrlTNnXQJuHChhJZ0zZZ4+13ALfFua/eySMCFCyW0LILT6LqVgAu4ddsqrb2uJeDCRQah3bx5y3DKp0NJvVZV3TSc0nG9VidSFrfv3DGcqr9k6i8uvd29d89w+g8ltGoFSlygi6JcJTTFZxCOakxofsbTZ5WASkAlkBQJZFhoSWm4tlMloBJQCfgl8D9VvKo6ZMItGAAAAABJRU5ErkJggg==)"
      ]
    },
    {
      "cell_type": "code",
      "metadata": {
        "colab": {
          "base_uri": "https://localhost:8080/",
          "height": 78
        },
        "id": "X0zd1UeIo9MX",
        "outputId": "5641ad07-bd24-45f5-f23f-20c46b794055"
      },
      "source": [
        "fruits = pd.DataFrame({\"Apples\":[30], \"Bananas\":[21]})\r\n",
        "fruits"
      ],
      "execution_count": 28,
      "outputs": [
        {
          "output_type": "execute_result",
          "data": {
            "text/html": [
              "<div>\n",
              "<style scoped>\n",
              "    .dataframe tbody tr th:only-of-type {\n",
              "        vertical-align: middle;\n",
              "    }\n",
              "\n",
              "    .dataframe tbody tr th {\n",
              "        vertical-align: top;\n",
              "    }\n",
              "\n",
              "    .dataframe thead th {\n",
              "        text-align: right;\n",
              "    }\n",
              "</style>\n",
              "<table border=\"1\" class=\"dataframe\">\n",
              "  <thead>\n",
              "    <tr style=\"text-align: right;\">\n",
              "      <th></th>\n",
              "      <th>Apples</th>\n",
              "      <th>Bananas</th>\n",
              "    </tr>\n",
              "  </thead>\n",
              "  <tbody>\n",
              "    <tr>\n",
              "      <th>0</th>\n",
              "      <td>30</td>\n",
              "      <td>21</td>\n",
              "    </tr>\n",
              "  </tbody>\n",
              "</table>\n",
              "</div>"
            ],
            "text/plain": [
              "   Apples  Bananas\n",
              "0      30       21"
            ]
          },
          "metadata": {
            "tags": []
          },
          "execution_count": 28
        }
      ]
    },
    {
      "cell_type": "markdown",
      "metadata": {
        "id": "qFXGFC8P1gSl"
      },
      "source": [
        "Create a dataframe fruit_sales that matches the diagram below:\r\n",
        "\r\n",
        "![image.png](data:image/png;base64,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)"
      ]
    },
    {
      "cell_type": "code",
      "metadata": {
        "colab": {
          "base_uri": "https://localhost:8080/",
          "height": 108
        },
        "id": "cQmpGrAp1m0s",
        "outputId": "0496c520-06f8-43b7-a92c-e58123a1a5f8"
      },
      "source": [
        "q2 = pd.DataFrame({\"Apples\":[35,41], \"Bananas\":[21,34]},index=[\"2017 Sales\",\"2018 Sales\"])\r\n",
        "q2"
      ],
      "execution_count": 29,
      "outputs": [
        {
          "output_type": "execute_result",
          "data": {
            "text/html": [
              "<div>\n",
              "<style scoped>\n",
              "    .dataframe tbody tr th:only-of-type {\n",
              "        vertical-align: middle;\n",
              "    }\n",
              "\n",
              "    .dataframe tbody tr th {\n",
              "        vertical-align: top;\n",
              "    }\n",
              "\n",
              "    .dataframe thead th {\n",
              "        text-align: right;\n",
              "    }\n",
              "</style>\n",
              "<table border=\"1\" class=\"dataframe\">\n",
              "  <thead>\n",
              "    <tr style=\"text-align: right;\">\n",
              "      <th></th>\n",
              "      <th>Apples</th>\n",
              "      <th>Bananas</th>\n",
              "    </tr>\n",
              "  </thead>\n",
              "  <tbody>\n",
              "    <tr>\n",
              "      <th>2017 Sales</th>\n",
              "      <td>35</td>\n",
              "      <td>21</td>\n",
              "    </tr>\n",
              "    <tr>\n",
              "      <th>2018 Sales</th>\n",
              "      <td>41</td>\n",
              "      <td>34</td>\n",
              "    </tr>\n",
              "  </tbody>\n",
              "</table>\n",
              "</div>"
            ],
            "text/plain": [
              "            Apples  Bananas\n",
              "2017 Sales      35       21\n",
              "2018 Sales      41       34"
            ]
          },
          "metadata": {
            "tags": []
          },
          "execution_count": 29
        }
      ]
    },
    {
      "cell_type": "markdown",
      "metadata": {
        "id": "ZiySS2JQ1uNU"
      },
      "source": [
        "Create a variable ingredients with a Series that looks like:\r\n",
        "\r\n",
        "Flour     4 cups\r\n",
        "\r\n",
        "Milk       1 cup\r\n",
        "\r\n",
        "Eggs     2 large\r\n",
        "\r\n",
        "Spam       1 can\r\n",
        "\r\n",
        "Name: Dinner, dtype: object"
      ]
    },
    {
      "cell_type": "code",
      "metadata": {
        "colab": {
          "base_uri": "https://localhost:8080/"
        },
        "id": "j0O7GIts11yM",
        "outputId": "441f2889-d9e1-40f5-ed39-40b9d0f180b6"
      },
      "source": [
        "q3 = pd.Series([\"4 cups\", \"1 cup\", \"2 large\", \"1 can\"], \r\n",
        "              index = [\"Flour\", \"Milk\", \"Eggs\", \"Spam\"],\r\n",
        "              name = \"Dinner\")\r\n",
        "q3"
      ],
      "execution_count": 30,
      "outputs": [
        {
          "output_type": "execute_result",
          "data": {
            "text/plain": [
              "Flour     4 cups\n",
              "Milk       1 cup\n",
              "Eggs     2 large\n",
              "Spam       1 can\n",
              "Name: Dinner, dtype: object"
            ]
          },
          "metadata": {
            "tags": []
          },
          "execution_count": 30
        }
      ]
    },
    {
      "cell_type": "markdown",
      "metadata": {
        "id": "n-Z1IP4c1-Sh"
      },
      "source": [
        "Read the following csv dataset of wine reviews into a DataFrame called reviews:\r\n",
        "\r\n",
        "![image.png](data:image/png;base64,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)\r\n",
        "\r\n",
        "\r\n",
        "The filepath to the csv file is ../input/wine-reviews/winemag-data_first150k.csv. The first few lines look like:"
      ]
    },
    {
      "cell_type": "code",
      "metadata": {
        "colab": {
          "base_uri": "https://localhost:8080/",
          "height": 331
        },
        "id": "3aq3lFXc2LP0",
        "outputId": "da344308-e89a-4dae-e188-8e3b01f5d48d"
      },
      "source": [
        "wine_reviews"
      ],
      "execution_count": 31,
      "outputs": [
        {
          "output_type": "execute_result",
          "data": {
            "text/html": [
              "<div>\n",
              "<style scoped>\n",
              "    .dataframe tbody tr th:only-of-type {\n",
              "        vertical-align: middle;\n",
              "    }\n",
              "\n",
              "    .dataframe tbody tr th {\n",
              "        vertical-align: top;\n",
              "    }\n",
              "\n",
              "    .dataframe thead th {\n",
              "        text-align: right;\n",
              "    }\n",
              "</style>\n",
              "<table border=\"1\" class=\"dataframe\">\n",
              "  <thead>\n",
              "    <tr style=\"text-align: right;\">\n",
              "      <th></th>\n",
              "      <th>Unnamed: 0</th>\n",
              "      <th>country</th>\n",
              "      <th>description</th>\n",
              "      <th>designation</th>\n",
              "      <th>points</th>\n",
              "      <th>price</th>\n",
              "      <th>province</th>\n",
              "      <th>region_1</th>\n",
              "      <th>region_2</th>\n",
              "      <th>variety</th>\n",
              "      <th>winery</th>\n",
              "    </tr>\n",
              "  </thead>\n",
              "  <tbody>\n",
              "    <tr>\n",
              "      <th>0</th>\n",
              "      <td>0</td>\n",
              "      <td>US</td>\n",
              "      <td>This tremendous 100% varietal wine hails from ...</td>\n",
              "      <td>Martha's Vineyard</td>\n",
              "      <td>96</td>\n",
              "      <td>235.0</td>\n",
              "      <td>California</td>\n",
              "      <td>Napa Valley</td>\n",
              "      <td>Napa</td>\n",
              "      <td>Cabernet Sauvignon</td>\n",
              "      <td>Heitz</td>\n",
              "    </tr>\n",
              "    <tr>\n",
              "      <th>1</th>\n",
              "      <td>1</td>\n",
              "      <td>Spain</td>\n",
              "      <td>Ripe aromas of fig, blackberry and cassis are ...</td>\n",
              "      <td>Carodorum Selección Especial Reserva</td>\n",
              "      <td>96</td>\n",
              "      <td>110.0</td>\n",
              "      <td>Northern Spain</td>\n",
              "      <td>Toro</td>\n",
              "      <td>NaN</td>\n",
              "      <td>Tinta de Toro</td>\n",
              "      <td>Bodega Carmen Rodríguez</td>\n",
              "    </tr>\n",
              "    <tr>\n",
              "      <th>...</th>\n",
              "      <td>...</td>\n",
              "      <td>...</td>\n",
              "      <td>...</td>\n",
              "      <td>...</td>\n",
              "      <td>...</td>\n",
              "      <td>...</td>\n",
              "      <td>...</td>\n",
              "      <td>...</td>\n",
              "      <td>...</td>\n",
              "      <td>...</td>\n",
              "      <td>...</td>\n",
              "    </tr>\n",
              "    <tr>\n",
              "      <th>150928</th>\n",
              "      <td>150928</td>\n",
              "      <td>France</td>\n",
              "      <td>A perfect salmon shade, with scents of peaches...</td>\n",
              "      <td>Grand Brut Rosé</td>\n",
              "      <td>90</td>\n",
              "      <td>52.0</td>\n",
              "      <td>Champagne</td>\n",
              "      <td>Champagne</td>\n",
              "      <td>NaN</td>\n",
              "      <td>Champagne Blend</td>\n",
              "      <td>Gosset</td>\n",
              "    </tr>\n",
              "    <tr>\n",
              "      <th>150929</th>\n",
              "      <td>150929</td>\n",
              "      <td>Italy</td>\n",
              "      <td>More Pinot Grigios should taste like this. A r...</td>\n",
              "      <td>NaN</td>\n",
              "      <td>90</td>\n",
              "      <td>15.0</td>\n",
              "      <td>Northeastern Italy</td>\n",
              "      <td>Alto Adige</td>\n",
              "      <td>NaN</td>\n",
              "      <td>Pinot Grigio</td>\n",
              "      <td>Alois Lageder</td>\n",
              "    </tr>\n",
              "  </tbody>\n",
              "</table>\n",
              "<p>150930 rows × 11 columns</p>\n",
              "</div>"
            ],
            "text/plain": [
              "        Unnamed: 0 country  ...             variety                   winery\n",
              "0                0      US  ...  Cabernet Sauvignon                    Heitz\n",
              "1                1   Spain  ...       Tinta de Toro  Bodega Carmen Rodríguez\n",
              "...            ...     ...  ...                 ...                      ...\n",
              "150928      150928  France  ...     Champagne Blend                   Gosset\n",
              "150929      150929   Italy  ...        Pinot Grigio            Alois Lageder\n",
              "\n",
              "[150930 rows x 11 columns]"
            ]
          },
          "metadata": {
            "tags": []
          },
          "execution_count": 31
        }
      ]
    },
    {
      "cell_type": "markdown",
      "metadata": {
        "id": "hpTN_BTJ2VQT"
      },
      "source": [
        "Run the cell below to create and display a DataFrame called animals:"
      ]
    },
    {
      "cell_type": "code",
      "metadata": {
        "id": "hSHnv-F-2X4E"
      },
      "source": [
        "animals = pd.DataFrame({'Cows': [12, 20], 'Goats': [22, 19]}, index=['Year 1', 'Year 2'])\r\n",
        "animals\r\n",
        "animals.to_csv(\"cows_and_goats.csv\")"
      ],
      "execution_count": 37,
      "outputs": []
    },
    {
      "cell_type": "markdown",
      "metadata": {
        "id": "6ZSK2Zzo-0r2"
      },
      "source": [
        "# **Exercise: Indexing, Selecting & Assigning**"
      ]
    },
    {
      "cell_type": "code",
      "metadata": {
        "colab": {
          "resources": {
            "http://localhost:8080/nbextensions/google.colab/files.js": {
              "data": "Ly8gQ29weXJpZ2h0IDIwMTcgR29vZ2xlIExMQwovLwovLyBMaWNlbnNlZCB1bmRlciB0aGUgQXBhY2hlIExpY2Vuc2UsIFZlcnNpb24gMi4wICh0aGUgIkxpY2Vuc2UiKTsKLy8geW91IG1heSBub3QgdXNlIHRoaXMgZmlsZSBleGNlcHQgaW4gY29tcGxpYW5jZSB3aXRoIHRoZSBMaWNlbnNlLgovLyBZb3UgbWF5IG9idGFpbiBhIGNvcHkgb2YgdGhlIExpY2Vuc2UgYXQKLy8KLy8gICAgICBodHRwOi8vd3d3LmFwYWNoZS5vcmcvbGljZW5zZXMvTElDRU5TRS0yLjAKLy8KLy8gVW5sZXNzIHJlcXVpcmVkIGJ5IGFwcGxpY2FibGUgbGF3IG9yIGFncmVlZCB0byBpbiB3cml0aW5nLCBzb2Z0d2FyZQovLyBkaXN0cmlidXRlZCB1bmRlciB0aGUgTGljZW5zZSBpcyBkaXN0cmlidXRlZCBvbiBhbiAiQVMgSVMiIEJBU0lTLAovLyBXSVRIT1VUIFdBUlJBTlRJRVMgT1IgQ09ORElUSU9OUyBPRiBBTlkgS0lORCwgZWl0aGVyIGV4cHJlc3Mgb3IgaW1wbGllZC4KLy8gU2VlIHRoZSBMaWNlbnNlIGZvciB0aGUgc3BlY2lmaWMgbGFuZ3VhZ2UgZ292ZXJuaW5nIHBlcm1pc3Npb25zIGFuZAovLyBsaW1pdGF0aW9ucyB1bmRlciB0aGUgTGljZW5zZS4KCi8qKgogKiBAZmlsZW92ZXJ2aWV3IEhlbHBlcnMgZm9yIGdvb2dsZS5jb2xhYiBQeXRob24gbW9kdWxlLgogKi8KKGZ1bmN0aW9uKHNjb3BlKSB7CmZ1bmN0aW9uIHNwYW4odGV4dCwgc3R5bGVBdHRyaWJ1dGVzID0ge30pIHsKICBjb25zdCBlbGVtZW50ID0gZG9jdW1lbnQuY3JlYXRlRWxlbWVudCgnc3BhbicpOwogIGVsZW1lbnQudGV4dENvbnRlbnQgPSB0ZXh0OwogIGZvciAoY29uc3Qga2V5IG9mIE9iamVjdC5rZXlzKHN0eWxlQXR0cmlidXRlcykpIHsKICAgIGVsZW1lbnQuc3R5bGVba2V5XSA9IHN0eWxlQXR0cmlidXRlc1trZXldOwogIH0KICByZXR1cm4gZWxlbWVudDsKfQoKLy8gTWF4IG51bWJlciBvZiBieXRlcyB3aGljaCB3aWxsIGJlIHVwbG9hZGVkIGF0IGEgdGltZS4KY29uc3QgTUFYX1BBWUxPQURfU0laRSA9IDEwMCAqIDEwMjQ7CgpmdW5jdGlvbiBfdXBsb2FkRmlsZXMoaW5wdXRJZCwgb3V0cHV0SWQpIHsKICBjb25zdCBzdGVwcyA9IHVwbG9hZEZpbGVzU3RlcChpbnB1dElkLCBvdXRwdXRJZCk7CiAgY29uc3Qgb3V0cHV0RWxlbWVudCA9IGRvY3VtZW50LmdldEVsZW1lbnRCeUlkKG91dHB1dElkKTsKICAvLyBDYWNoZSBzdGVwcyBvbiB0aGUgb3V0cHV0RWxlbWVudCB0byBtYWtlIGl0IGF2YWlsYWJsZSBmb3IgdGhlIG5leHQgY2FsbAogIC8vIHRvIHVwbG9hZEZpbGVzQ29udGludWUgZnJvbSBQeXRob24uCiAgb3V0cHV0RWxlbWVudC5zdGVwcyA9IHN0ZXBzOwoKICByZXR1cm4gX3VwbG9hZEZpbGVzQ29udGludWUob3V0cHV0SWQpOwp9CgovLyBUaGlzIGlzIHJvdWdobHkgYW4gYXN5bmMgZ2VuZXJhdG9yIChub3Qgc3VwcG9ydGVkIGluIHRoZSBicm93c2VyIHlldCksCi8vIHdoZXJlIHRoZXJlIGFyZSBtdWx0aXBsZSBhc3luY2hyb25vdXMgc3RlcHMgYW5kIHRoZSBQeXRob24gc2lkZSBpcyBnb2luZwovLyB0byBwb2xsIGZvciBjb21wbGV0aW9uIG9mIGVhY2ggc3RlcC4KLy8gVGhpcyB1c2VzIGEgUHJvbWlzZSB0byBibG9jayB0aGUgcHl0aG9uIHNpZGUgb24gY29tcGxldGlvbiBvZiBlYWNoIHN0ZXAsCi8vIHRoZW4gcGFzc2VzIHRoZSByZXN1bHQgb2YgdGhlIHByZXZpb3VzIHN0ZXAgYXMgdGhlIGlucHV0IHRvIHRoZSBuZXh0IHN0ZXAuCmZ1bmN0aW9uIF91cGxvYWRGaWxlc0NvbnRpbnVlKG91dHB1dElkKSB7CiAgY29uc3Qgb3V0cHV0RWxlbWVudCA9IGRvY3VtZW50LmdldEVsZW1lbnRCeUlkKG91dHB1dElkKTsKICBjb25zdCBzdGVwcyA9IG91dHB1dEVsZW1lbnQuc3RlcHM7CgogIGNvbnN0IG5leHQgPSBzdGVwcy5uZXh0KG91dHB1dEVsZW1lbnQubGFzdFByb21pc2VWYWx1ZSk7CiAgcmV0dXJuIFByb21pc2UucmVzb2x2ZShuZXh0LnZhbHVlLnByb21pc2UpLnRoZW4oKHZhbHVlKSA9PiB7CiAgICAvLyBDYWNoZSB0aGUgbGFzdCBwcm9taXNlIHZhbHVlIHRvIG1ha2UgaXQgYXZhaWxhYmxlIHRvIHRoZSBuZXh0CiAgICAvLyBzdGVwIG9mIHRoZSBnZW5lcmF0b3IuCiAgICBvdXRwdXRFbGVtZW50Lmxhc3RQcm9taXNlVmFsdWUgPSB2YWx1ZTsKICAgIHJldHVybiBuZXh0LnZhbHVlLnJlc3BvbnNlOwogIH0pOwp9CgovKioKICogR2VuZXJhdG9yIGZ1bmN0aW9uIHdoaWNoIGlzIGNhbGxlZCBiZXR3ZWVuIGVhY2ggYXN5bmMgc3RlcCBvZiB0aGUgdXBsb2FkCiAqIHByb2Nlc3MuCiAqIEBwYXJhbSB7c3RyaW5nfSBpbnB1dElkIEVsZW1lbnQgSUQgb2YgdGhlIGlucHV0IGZpbGUgcGlja2VyIGVsZW1lbnQuCiAqIEBwYXJhbSB7c3RyaW5nfSBvdXRwdXRJZCBFbGVtZW50IElEIG9mIHRoZSBvdXRwdXQgZGlzcGxheS4KICogQHJldHVybiB7IUl0ZXJhYmxlPCFPYmplY3Q+fSBJdGVyYWJsZSBvZiBuZXh0IHN0ZXBzLgogKi8KZnVuY3Rpb24qIHVwbG9hZEZpbGVzU3RlcChpbnB1dElkLCBvdXRwdXRJZCkgewogIGNvbnN0IGlucHV0RWxlbWVudCA9IGRvY3VtZW50LmdldEVsZW1lbnRCeUlkKGlucHV0SWQpOwogIGlucHV0RWxlbWVudC5kaXNhYmxlZCA9IGZhbHNlOwoKICBjb25zdCBvdXRwdXRFbGVtZW50ID0gZG9jdW1lbnQuZ2V0RWxlbWVudEJ5SWQob3V0cHV0SWQpOwogIG91dHB1dEVsZW1lbnQuaW5uZXJIVE1MID0gJyc7CgogIGNvbnN0IHBpY2tlZFByb21pc2UgPSBuZXcgUHJvbWlzZSgocmVzb2x2ZSkgPT4gewogICAgaW5wdXRFbGVtZW50LmFkZEV2ZW50TGlzdGVuZXIoJ2NoYW5nZScsIChlKSA9PiB7CiAgICAgIHJlc29sdmUoZS50YXJnZXQuZmlsZXMpOwogICAgfSk7CiAgfSk7CgogIGNvbnN0IGNhbmNlbCA9IGRvY3VtZW50LmNyZWF0ZUVsZW1lbnQoJ2J1dHRvbicpOwogIGlucHV0RWxlbWVudC5wYXJlbnRFbGVtZW50LmFwcGVuZENoaWxkKGNhbmNlbCk7CiAgY2FuY2VsLnRleHRDb250ZW50ID0gJ0NhbmNlbCB1cGxvYWQnOwogIGNvbnN0IGNhbmNlbFByb21pc2UgPSBuZXcgUHJvbWlzZSgocmVzb2x2ZSkgPT4gewogICAgY2FuY2VsLm9uY2xpY2sgPSAoKSA9PiB7CiAgICAgIHJlc29sdmUobnVsbCk7CiAgICB9OwogIH0pOwoKICAvLyBXYWl0IGZvciB0aGUgdXNlciB0byBwaWNrIHRoZSBmaWxlcy4KICBjb25zdCBmaWxlcyA9IHlpZWxkIHsKICAgIHByb21pc2U6IFByb21pc2UucmFjZShbcGlja2VkUHJvbWlzZSwgY2FuY2VsUHJvbWlzZV0pLAogICAgcmVzcG9uc2U6IHsKICAgICAgYWN0aW9uOiAnc3RhcnRpbmcnLAogICAgfQogIH07CgogIGNhbmNlbC5yZW1vdmUoKTsKCiAgLy8gRGlzYWJsZSB0aGUgaW5wdXQgZWxlbWVudCBzaW5jZSBmdXJ0aGVyIHBpY2tzIGFyZSBub3QgYWxsb3dlZC4KICBpbnB1dEVsZW1lbnQuZGlzYWJsZWQgPSB0cnVlOwoKICBpZiAoIWZpbGVzKSB7CiAgICByZXR1cm4gewogICAgICByZXNwb25zZTogewogICAgICAgIGFjdGlvbjogJ2NvbXBsZXRlJywKICAgICAgfQogICAgfTsKICB9CgogIGZvciAoY29uc3QgZmlsZSBvZiBmaWxlcykgewogICAgY29uc3QgbGkgPSBkb2N1bWVudC5jcmVhdGVFbGVtZW50KCdsaScpOwogICAgbGkuYXBwZW5kKHNwYW4oZmlsZS5uYW1lLCB7Zm9udFdlaWdodDogJ2JvbGQnfSkpOwogICAgbGkuYXBwZW5kKHNwYW4oCiAgICAgICAgYCgke2ZpbGUudHlwZSB8fCAnbi9hJ30pIC0gJHtmaWxlLnNpemV9IGJ5dGVzLCBgICsKICAgICAgICBgbGFzdCBtb2RpZmllZDogJHsKICAgICAgICAgICAgZmlsZS5sYXN0TW9kaWZpZWREYXRlID8gZmlsZS5sYXN0TW9kaWZpZWREYXRlLnRvTG9jYWxlRGF0ZVN0cmluZygpIDoKICAgICAgICAgICAgICAgICAgICAgICAgICAgICAgICAgICAgJ24vYSd9IC0gYCkpOwogICAgY29uc3QgcGVyY2VudCA9IHNwYW4oJzAlIGRvbmUnKTsKICAgIGxpLmFwcGVuZENoaWxkKHBlcmNlbnQpOwoKICAgIG91dHB1dEVsZW1lbnQuYXBwZW5kQ2hpbGQobGkpOwoKICAgIGNvbnN0IGZpbGVEYXRhUHJvbWlzZSA9IG5ldyBQcm9taXNlKChyZXNvbHZlKSA9PiB7CiAgICAgIGNvbnN0IHJlYWRlciA9IG5ldyBGaWxlUmVhZGVyKCk7CiAgICAgIHJlYWRlci5vbmxvYWQgPSAoZSkgPT4gewogICAgICAgIHJlc29sdmUoZS50YXJnZXQucmVzdWx0KTsKICAgICAgfTsKICAgICAgcmVhZGVyLnJlYWRBc0FycmF5QnVmZmVyKGZpbGUpOwogICAgfSk7CiAgICAvLyBXYWl0IGZvciB0aGUgZGF0YSB0byBiZSByZWFkeS4KICAgIGxldCBmaWxlRGF0YSA9IHlpZWxkIHsKICAgICAgcHJvbWlzZTogZmlsZURhdGFQcm9taXNlLAogICAgICByZXNwb25zZTogewogICAgICAgIGFjdGlvbjogJ2NvbnRpbnVlJywKICAgICAgfQogICAgfTsKCiAgICAvLyBVc2UgYSBjaHVua2VkIHNlbmRpbmcgdG8gYXZvaWQgbWVzc2FnZSBzaXplIGxpbWl0cy4gU2VlIGIvNjIxMTU2NjAuCiAgICBsZXQgcG9zaXRpb24gPSAwOwogICAgd2hpbGUgKHBvc2l0aW9uIDwgZmlsZURhdGEuYnl0ZUxlbmd0aCkgewogICAgICBjb25zdCBsZW5ndGggPSBNYXRoLm1pbihmaWxlRGF0YS5ieXRlTGVuZ3RoIC0gcG9zaXRpb24sIE1BWF9QQVlMT0FEX1NJWkUpOwogICAgICBjb25zdCBjaHVuayA9IG5ldyBVaW50OEFycmF5KGZpbGVEYXRhLCBwb3NpdGlvbiwgbGVuZ3RoKTsKICAgICAgcG9zaXRpb24gKz0gbGVuZ3RoOwoKICAgICAgY29uc3QgYmFzZTY0ID0gYnRvYShTdHJpbmcuZnJvbUNoYXJDb2RlLmFwcGx5KG51bGwsIGNodW5rKSk7CiAgICAgIHlpZWxkIHsKICAgICAgICByZXNwb25zZTogewogICAgICAgICAgYWN0aW9uOiAnYXBwZW5kJywKICAgICAgICAgIGZpbGU6IGZpbGUubmFtZSwKICAgICAgICAgIGRhdGE6IGJhc2U2NCwKICAgICAgICB9LAogICAgICB9OwogICAgICBwZXJjZW50LnRleHRDb250ZW50ID0KICAgICAgICAgIGAke01hdGgucm91bmQoKHBvc2l0aW9uIC8gZmlsZURhdGEuYnl0ZUxlbmd0aCkgKiAxMDApfSUgZG9uZWA7CiAgICB9CiAgfQoKICAvLyBBbGwgZG9uZS4KICB5aWVsZCB7CiAgICByZXNwb25zZTogewogICAgICBhY3Rpb246ICdjb21wbGV0ZScsCiAgICB9CiAgfTsKfQoKc2NvcGUuZ29vZ2xlID0gc2NvcGUuZ29vZ2xlIHx8IHt9OwpzY29wZS5nb29nbGUuY29sYWIgPSBzY29wZS5nb29nbGUuY29sYWIgfHwge307CnNjb3BlLmdvb2dsZS5jb2xhYi5fZmlsZXMgPSB7CiAgX3VwbG9hZEZpbGVzLAogIF91cGxvYWRGaWxlc0NvbnRpbnVlLAp9Owp9KShzZWxmKTsK",
              "ok": true,
              "headers": [
                [
                  "content-type",
                  "application/javascript"
                ]
              ],
              "status": 200,
              "status_text": ""
            }
          },
          "base_uri": "https://localhost:8080/",
          "height": 73
        },
        "id": "6e99RQk63_yB",
        "outputId": "b3970581-d033-41ed-8be6-67d0450b6204"
      },
      "source": [
        "from google.colab import files\r\n",
        "Plik2 = files.upload()\r\n",
        "reviews_file_path = io.BytesIO(Plik2['winemag-data-130k.csv'])\r\n",
        "reviews = pd.read_csv(reviews_file_path)"
      ],
      "execution_count": 42,
      "outputs": [
        {
          "output_type": "display_data",
          "data": {
            "text/html": [
              "\n",
              "     <input type=\"file\" id=\"files-67b4b909-96e3-47a6-bf6b-4be9996358a8\" name=\"files[]\" multiple disabled\n",
              "        style=\"border:none\" />\n",
              "     <output id=\"result-67b4b909-96e3-47a6-bf6b-4be9996358a8\">\n",
              "      Upload widget is only available when the cell has been executed in the\n",
              "      current browser session. Please rerun this cell to enable.\n",
              "      </output>\n",
              "      <script src=\"/nbextensions/google.colab/files.js\"></script> "
            ],
            "text/plain": [
              "<IPython.core.display.HTML object>"
            ]
          },
          "metadata": {
            "tags": []
          }
        },
        {
          "output_type": "stream",
          "text": [
            "Saving winemag-data-130k.csv to winemag-data-130k (2).csv\n"
          ],
          "name": "stdout"
        }
      ]
    },
    {
      "cell_type": "markdown",
      "metadata": {
        "id": "yCwV3xq0-ytu"
      },
      "source": [
        "Select the description column from reviews and assign the result to the variable desc."
      ]
    },
    {
      "cell_type": "code",
      "metadata": {
        "colab": {
          "base_uri": "https://localhost:8080/"
        },
        "id": "Z6sNZPrh5Mtk",
        "outputId": "344fa572-ae6d-4ae1-d409-e60fdf6a69b6"
      },
      "source": [
        "desc = reviews.description\r\n",
        "desc"
      ],
      "execution_count": 45,
      "outputs": [
        {
          "output_type": "execute_result",
          "data": {
            "text/plain": [
              "0         Aromas include tropical fruit, broom, brimston...\n",
              "1         This is ripe and fruity, a wine that is smooth...\n",
              "                                ...                        \n",
              "129969    A dry style of Pinot Gris, this is crisp with ...\n",
              "129970    Big, rich and off-dry, this is powered by inte...\n",
              "Name: description, Length: 129971, dtype: object"
            ]
          },
          "metadata": {
            "tags": []
          },
          "execution_count": 45
        }
      ]
    },
    {
      "cell_type": "markdown",
      "metadata": {
        "id": "OTbQSzhE_DG1"
      },
      "source": [
        "Select the first value from the description column of reviews, assigning it to variable first_description."
      ]
    },
    {
      "cell_type": "code",
      "metadata": {
        "colab": {
          "base_uri": "https://localhost:8080/",
          "height": 52
        },
        "id": "JVQxI7bs_I_F",
        "outputId": "b8b30b07-f607-46ca-b2fe-3588a3546f9a"
      },
      "source": [
        "first_description = reviews.description.iloc[0]\r\n",
        "first_description"
      ],
      "execution_count": 47,
      "outputs": [
        {
          "output_type": "execute_result",
          "data": {
            "application/vnd.google.colaboratory.intrinsic+json": {
              "type": "string"
            },
            "text/plain": [
              "\"Aromas include tropical fruit, broom, brimstone and dried herb. The palate isn't overly expressive, offering unripened apple, citrus and dried sage alongside brisk acidity.\""
            ]
          },
          "metadata": {
            "tags": []
          },
          "execution_count": 47
        }
      ]
    },
    {
      "cell_type": "markdown",
      "metadata": {
        "id": "pfPIx3Dx_Ul8"
      },
      "source": [
        "Select the first row of data (the first record) from reviews, assigning it to the variable first_row."
      ]
    },
    {
      "cell_type": "code",
      "metadata": {
        "colab": {
          "base_uri": "https://localhost:8080/"
        },
        "id": "UV5hawLv_WVl",
        "outputId": "4c97711b-9309-4897-c84b-13d148a91d5e"
      },
      "source": [
        "first_row = reviews.iloc[0]\r\n",
        "first_row"
      ],
      "execution_count": 48,
      "outputs": [
        {
          "output_type": "execute_result",
          "data": {
            "text/plain": [
              "Unnamed: 0              0\n",
              "country             Italy\n",
              "                 ...     \n",
              "variety       White Blend\n",
              "winery            Nicosia\n",
              "Name: 0, Length: 14, dtype: object"
            ]
          },
          "metadata": {
            "tags": []
          },
          "execution_count": 48
        }
      ]
    },
    {
      "cell_type": "markdown",
      "metadata": {
        "id": "h8B5wHF9_abV"
      },
      "source": [
        "Select the first 10 values from the description column in reviews, assigning the result to variable first_descriptions.\r\n",
        "\r\n",
        "Hint: format your output as a pandas Series."
      ]
    },
    {
      "cell_type": "code",
      "metadata": {
        "colab": {
          "base_uri": "https://localhost:8080/"
        },
        "id": "qtYI08ec_cV9",
        "outputId": "f56da6cc-53e5-42d4-fe45-76b5642a0bfa"
      },
      "source": [
        "first_descriptions = reviews.description.iloc[:10]\r\n",
        "first_descriptions"
      ],
      "execution_count": 50,
      "outputs": [
        {
          "output_type": "execute_result",
          "data": {
            "text/plain": [
              "0    Aromas include tropical fruit, broom, brimston...\n",
              "1    This is ripe and fruity, a wine that is smooth...\n",
              "                           ...                        \n",
              "8    Savory dried thyme notes accent sunnier flavor...\n",
              "9    This has great depth of flavor with its fresh ...\n",
              "Name: description, Length: 10, dtype: object"
            ]
          },
          "metadata": {
            "tags": []
          },
          "execution_count": 50
        }
      ]
    },
    {
      "cell_type": "markdown",
      "metadata": {
        "id": "5CgsVNiG_hUN"
      },
      "source": [
        "Select the records with index labels `1`, `2`, `3`, `5`, and `8`, assigning the result to the variable `sample_reviews`.\r\n",
        "\r\n",
        "In other words, generate the following DataFrame:\r\n",
        "\r\n",
        "![](https://i.imgur.com/sHZvI1O.png)"
      ]
    },
    {
      "cell_type": "code",
      "metadata": {
        "colab": {
          "base_uri": "https://localhost:8080/",
          "height": 564
        },
        "id": "KBP3Tl3Q_lSN",
        "outputId": "e321537a-9cfb-4313-a408-106479def289"
      },
      "source": [
        "indices = [1, 2, 3, 5, 8]\r\n",
        "sample_reviews = reviews.iloc[indices]\r\n",
        "sample_reviews"
      ],
      "execution_count": 53,
      "outputs": [
        {
          "output_type": "execute_result",
          "data": {
            "text/html": [
              "<div>\n",
              "<style scoped>\n",
              "    .dataframe tbody tr th:only-of-type {\n",
              "        vertical-align: middle;\n",
              "    }\n",
              "\n",
              "    .dataframe tbody tr th {\n",
              "        vertical-align: top;\n",
              "    }\n",
              "\n",
              "    .dataframe thead th {\n",
              "        text-align: right;\n",
              "    }\n",
              "</style>\n",
              "<table border=\"1\" class=\"dataframe\">\n",
              "  <thead>\n",
              "    <tr style=\"text-align: right;\">\n",
              "      <th></th>\n",
              "      <th>Unnamed: 0</th>\n",
              "      <th>country</th>\n",
              "      <th>description</th>\n",
              "      <th>designation</th>\n",
              "      <th>points</th>\n",
              "      <th>price</th>\n",
              "      <th>province</th>\n",
              "      <th>region_1</th>\n",
              "      <th>region_2</th>\n",
              "      <th>taster_name</th>\n",
              "      <th>taster_twitter_handle</th>\n",
              "      <th>title</th>\n",
              "      <th>variety</th>\n",
              "      <th>winery</th>\n",
              "    </tr>\n",
              "  </thead>\n",
              "  <tbody>\n",
              "    <tr>\n",
              "      <th>1</th>\n",
              "      <td>1</td>\n",
              "      <td>Portugal</td>\n",
              "      <td>This is ripe and fruity, a wine that is smooth...</td>\n",
              "      <td>Avidagos</td>\n",
              "      <td>87</td>\n",
              "      <td>15.0</td>\n",
              "      <td>Douro</td>\n",
              "      <td>NaN</td>\n",
              "      <td>NaN</td>\n",
              "      <td>Roger Voss</td>\n",
              "      <td>@vossroger</td>\n",
              "      <td>Quinta dos Avidagos 2011 Avidagos Red (Douro)</td>\n",
              "      <td>Portuguese Red</td>\n",
              "      <td>Quinta dos Avidagos</td>\n",
              "    </tr>\n",
              "    <tr>\n",
              "      <th>2</th>\n",
              "      <td>2</td>\n",
              "      <td>US</td>\n",
              "      <td>Tart and snappy, the flavors of lime flesh and...</td>\n",
              "      <td>NaN</td>\n",
              "      <td>87</td>\n",
              "      <td>14.0</td>\n",
              "      <td>Oregon</td>\n",
              "      <td>Willamette Valley</td>\n",
              "      <td>Willamette Valley</td>\n",
              "      <td>Paul Gregutt</td>\n",
              "      <td>@paulgwine</td>\n",
              "      <td>Rainstorm 2013 Pinot Gris (Willamette Valley)</td>\n",
              "      <td>Pinot Gris</td>\n",
              "      <td>Rainstorm</td>\n",
              "    </tr>\n",
              "    <tr>\n",
              "      <th>3</th>\n",
              "      <td>3</td>\n",
              "      <td>US</td>\n",
              "      <td>Pineapple rind, lemon pith and orange blossom ...</td>\n",
              "      <td>Reserve Late Harvest</td>\n",
              "      <td>87</td>\n",
              "      <td>13.0</td>\n",
              "      <td>Michigan</td>\n",
              "      <td>Lake Michigan Shore</td>\n",
              "      <td>NaN</td>\n",
              "      <td>Alexander Peartree</td>\n",
              "      <td>NaN</td>\n",
              "      <td>St. Julian 2013 Reserve Late Harvest Riesling ...</td>\n",
              "      <td>Riesling</td>\n",
              "      <td>St. Julian</td>\n",
              "    </tr>\n",
              "    <tr>\n",
              "      <th>5</th>\n",
              "      <td>5</td>\n",
              "      <td>Spain</td>\n",
              "      <td>Blackberry and raspberry aromas show a typical...</td>\n",
              "      <td>Ars In Vitro</td>\n",
              "      <td>87</td>\n",
              "      <td>15.0</td>\n",
              "      <td>Northern Spain</td>\n",
              "      <td>Navarra</td>\n",
              "      <td>NaN</td>\n",
              "      <td>Michael Schachner</td>\n",
              "      <td>@wineschach</td>\n",
              "      <td>Tandem 2011 Ars In Vitro Tempranillo-Merlot (N...</td>\n",
              "      <td>Tempranillo-Merlot</td>\n",
              "      <td>Tandem</td>\n",
              "    </tr>\n",
              "    <tr>\n",
              "      <th>8</th>\n",
              "      <td>8</td>\n",
              "      <td>Germany</td>\n",
              "      <td>Savory dried thyme notes accent sunnier flavor...</td>\n",
              "      <td>Shine</td>\n",
              "      <td>87</td>\n",
              "      <td>12.0</td>\n",
              "      <td>Rheinhessen</td>\n",
              "      <td>NaN</td>\n",
              "      <td>NaN</td>\n",
              "      <td>Anna Lee C. Iijima</td>\n",
              "      <td>NaN</td>\n",
              "      <td>Heinz Eifel 2013 Shine Gewürztraminer (Rheinhe...</td>\n",
              "      <td>Gewürztraminer</td>\n",
              "      <td>Heinz Eifel</td>\n",
              "    </tr>\n",
              "  </tbody>\n",
              "</table>\n",
              "</div>"
            ],
            "text/plain": [
              "   Unnamed: 0   country  ...             variety               winery\n",
              "1           1  Portugal  ...      Portuguese Red  Quinta dos Avidagos\n",
              "2           2        US  ...          Pinot Gris            Rainstorm\n",
              "3           3        US  ...            Riesling           St. Julian\n",
              "5           5     Spain  ...  Tempranillo-Merlot               Tandem\n",
              "8           8   Germany  ...      Gewürztraminer          Heinz Eifel\n",
              "\n",
              "[5 rows x 14 columns]"
            ]
          },
          "metadata": {
            "tags": []
          },
          "execution_count": 53
        }
      ]
    },
    {
      "cell_type": "markdown",
      "metadata": {
        "id": "VQw7YYe2AAI0"
      },
      "source": [
        "Create a variable `df` containing the `country`, `province`, `region_1`, and `region_2` columns of the records with the index labels `0`, `1`, `10`, and `100`. In other words, generate the following DataFrame:\r\n",
        "\r\n",
        "![](https://i.imgur.com/FUCGiKP.png)"
      ]
    },
    {
      "cell_type": "code",
      "metadata": {
        "colab": {
          "base_uri": "https://localhost:8080/",
          "height": 168
        },
        "id": "ZdXUrLycAFsD",
        "outputId": "a1f35e64-2f4d-4572-f4a2-090f471610c0"
      },
      "source": [
        "cols = ['country', 'province', 'region_1', 'region_2']\r\n",
        "indices = [0, 1, 10, 100]\r\n",
        "df = reviews.loc[indices, cols]\r\n",
        "df"
      ],
      "execution_count": 55,
      "outputs": [
        {
          "output_type": "execute_result",
          "data": {
            "text/html": [
              "<div>\n",
              "<style scoped>\n",
              "    .dataframe tbody tr th:only-of-type {\n",
              "        vertical-align: middle;\n",
              "    }\n",
              "\n",
              "    .dataframe tbody tr th {\n",
              "        vertical-align: top;\n",
              "    }\n",
              "\n",
              "    .dataframe thead th {\n",
              "        text-align: right;\n",
              "    }\n",
              "</style>\n",
              "<table border=\"1\" class=\"dataframe\">\n",
              "  <thead>\n",
              "    <tr style=\"text-align: right;\">\n",
              "      <th></th>\n",
              "      <th>country</th>\n",
              "      <th>province</th>\n",
              "      <th>region_1</th>\n",
              "      <th>region_2</th>\n",
              "    </tr>\n",
              "  </thead>\n",
              "  <tbody>\n",
              "    <tr>\n",
              "      <th>0</th>\n",
              "      <td>Italy</td>\n",
              "      <td>Sicily &amp; Sardinia</td>\n",
              "      <td>Etna</td>\n",
              "      <td>NaN</td>\n",
              "    </tr>\n",
              "    <tr>\n",
              "      <th>1</th>\n",
              "      <td>Portugal</td>\n",
              "      <td>Douro</td>\n",
              "      <td>NaN</td>\n",
              "      <td>NaN</td>\n",
              "    </tr>\n",
              "    <tr>\n",
              "      <th>10</th>\n",
              "      <td>US</td>\n",
              "      <td>California</td>\n",
              "      <td>Napa Valley</td>\n",
              "      <td>Napa</td>\n",
              "    </tr>\n",
              "    <tr>\n",
              "      <th>100</th>\n",
              "      <td>US</td>\n",
              "      <td>New York</td>\n",
              "      <td>Finger Lakes</td>\n",
              "      <td>Finger Lakes</td>\n",
              "    </tr>\n",
              "  </tbody>\n",
              "</table>\n",
              "</div>"
            ],
            "text/plain": [
              "      country           province      region_1      region_2\n",
              "0       Italy  Sicily & Sardinia          Etna           NaN\n",
              "1    Portugal              Douro           NaN           NaN\n",
              "10         US         California   Napa Valley          Napa\n",
              "100        US           New York  Finger Lakes  Finger Lakes"
            ]
          },
          "metadata": {
            "tags": []
          },
          "execution_count": 55
        }
      ]
    },
    {
      "cell_type": "markdown",
      "metadata": {
        "id": "3o7fYv7ZAMYl"
      },
      "source": [
        "Create a variable df containing the country and variety columns of the first 100 records."
      ]
    },
    {
      "cell_type": "code",
      "metadata": {
        "colab": {
          "base_uri": "https://localhost:8080/",
          "height": 227
        },
        "id": "b0Y5pytSAPEF",
        "outputId": "af3cacc6-ba0d-49c7-96fc-c2e4028f21f4"
      },
      "source": [
        "cols = [0, 11]\r\n",
        "df = reviews.iloc[:100, cols]\r\n",
        "df"
      ],
      "execution_count": 59,
      "outputs": [
        {
          "output_type": "execute_result",
          "data": {
            "text/html": [
              "<div>\n",
              "<style scoped>\n",
              "    .dataframe tbody tr th:only-of-type {\n",
              "        vertical-align: middle;\n",
              "    }\n",
              "\n",
              "    .dataframe tbody tr th {\n",
              "        vertical-align: top;\n",
              "    }\n",
              "\n",
              "    .dataframe thead th {\n",
              "        text-align: right;\n",
              "    }\n",
              "</style>\n",
              "<table border=\"1\" class=\"dataframe\">\n",
              "  <thead>\n",
              "    <tr style=\"text-align: right;\">\n",
              "      <th></th>\n",
              "      <th>Unnamed: 0</th>\n",
              "      <th>title</th>\n",
              "    </tr>\n",
              "  </thead>\n",
              "  <tbody>\n",
              "    <tr>\n",
              "      <th>0</th>\n",
              "      <td>0</td>\n",
              "      <td>Nicosia 2013 Vulkà Bianco  (Etna)</td>\n",
              "    </tr>\n",
              "    <tr>\n",
              "      <th>1</th>\n",
              "      <td>1</td>\n",
              "      <td>Quinta dos Avidagos 2011 Avidagos Red (Douro)</td>\n",
              "    </tr>\n",
              "    <tr>\n",
              "      <th>...</th>\n",
              "      <td>...</td>\n",
              "      <td>...</td>\n",
              "    </tr>\n",
              "    <tr>\n",
              "      <th>98</th>\n",
              "      <td>98</td>\n",
              "      <td>Serpaia di Endrizzi 2010 Dono Riserva  (Morell...</td>\n",
              "    </tr>\n",
              "    <tr>\n",
              "      <th>99</th>\n",
              "      <td>99</td>\n",
              "      <td>Soquel Vineyards 2013 Intreccio Library Select...</td>\n",
              "    </tr>\n",
              "  </tbody>\n",
              "</table>\n",
              "<p>100 rows × 2 columns</p>\n",
              "</div>"
            ],
            "text/plain": [
              "    Unnamed: 0                                              title\n",
              "0            0                  Nicosia 2013 Vulkà Bianco  (Etna)\n",
              "1            1      Quinta dos Avidagos 2011 Avidagos Red (Douro)\n",
              "..         ...                                                ...\n",
              "98          98  Serpaia di Endrizzi 2010 Dono Riserva  (Morell...\n",
              "99          99  Soquel Vineyards 2013 Intreccio Library Select...\n",
              "\n",
              "[100 rows x 2 columns]"
            ]
          },
          "metadata": {
            "tags": []
          },
          "execution_count": 59
        }
      ]
    },
    {
      "cell_type": "markdown",
      "metadata": {
        "id": "6Ogt7owtAird"
      },
      "source": [
        "Create a DataFrame italian_wines containing reviews of wines made in Italy. \r\n",
        "\r\n",
        "Hint: reviews.country equals what"
      ]
    },
    {
      "cell_type": "code",
      "metadata": {
        "colab": {
          "base_uri": "https://localhost:8080/",
          "height": 593
        },
        "id": "y3xHcJLFAlW8",
        "outputId": "cdae515d-8011-4251-acde-eb36fe83d41a"
      },
      "source": [
        "italian_wines = reviews[reviews.country == 'Italy']\r\n",
        "italian_wines"
      ],
      "execution_count": 61,
      "outputs": [
        {
          "output_type": "execute_result",
          "data": {
            "text/html": [
              "<div>\n",
              "<style scoped>\n",
              "    .dataframe tbody tr th:only-of-type {\n",
              "        vertical-align: middle;\n",
              "    }\n",
              "\n",
              "    .dataframe tbody tr th {\n",
              "        vertical-align: top;\n",
              "    }\n",
              "\n",
              "    .dataframe thead th {\n",
              "        text-align: right;\n",
              "    }\n",
              "</style>\n",
              "<table border=\"1\" class=\"dataframe\">\n",
              "  <thead>\n",
              "    <tr style=\"text-align: right;\">\n",
              "      <th></th>\n",
              "      <th>Unnamed: 0</th>\n",
              "      <th>country</th>\n",
              "      <th>description</th>\n",
              "      <th>designation</th>\n",
              "      <th>points</th>\n",
              "      <th>price</th>\n",
              "      <th>province</th>\n",
              "      <th>region_1</th>\n",
              "      <th>region_2</th>\n",
              "      <th>taster_name</th>\n",
              "      <th>taster_twitter_handle</th>\n",
              "      <th>title</th>\n",
              "      <th>variety</th>\n",
              "      <th>winery</th>\n",
              "    </tr>\n",
              "  </thead>\n",
              "  <tbody>\n",
              "    <tr>\n",
              "      <th>0</th>\n",
              "      <td>0</td>\n",
              "      <td>Italy</td>\n",
              "      <td>Aromas include tropical fruit, broom, brimston...</td>\n",
              "      <td>Vulkà Bianco</td>\n",
              "      <td>87</td>\n",
              "      <td>NaN</td>\n",
              "      <td>Sicily &amp; Sardinia</td>\n",
              "      <td>Etna</td>\n",
              "      <td>NaN</td>\n",
              "      <td>Kerin O’Keefe</td>\n",
              "      <td>@kerinokeefe</td>\n",
              "      <td>Nicosia 2013 Vulkà Bianco  (Etna)</td>\n",
              "      <td>White Blend</td>\n",
              "      <td>Nicosia</td>\n",
              "    </tr>\n",
              "    <tr>\n",
              "      <th>6</th>\n",
              "      <td>6</td>\n",
              "      <td>Italy</td>\n",
              "      <td>Here's a bright, informal red that opens with ...</td>\n",
              "      <td>Belsito</td>\n",
              "      <td>87</td>\n",
              "      <td>16.0</td>\n",
              "      <td>Sicily &amp; Sardinia</td>\n",
              "      <td>Vittoria</td>\n",
              "      <td>NaN</td>\n",
              "      <td>Kerin O’Keefe</td>\n",
              "      <td>@kerinokeefe</td>\n",
              "      <td>Terre di Giurfo 2013 Belsito Frappato (Vittoria)</td>\n",
              "      <td>Frappato</td>\n",
              "      <td>Terre di Giurfo</td>\n",
              "    </tr>\n",
              "    <tr>\n",
              "      <th>...</th>\n",
              "      <td>...</td>\n",
              "      <td>...</td>\n",
              "      <td>...</td>\n",
              "      <td>...</td>\n",
              "      <td>...</td>\n",
              "      <td>...</td>\n",
              "      <td>...</td>\n",
              "      <td>...</td>\n",
              "      <td>...</td>\n",
              "      <td>...</td>\n",
              "      <td>...</td>\n",
              "      <td>...</td>\n",
              "      <td>...</td>\n",
              "      <td>...</td>\n",
              "    </tr>\n",
              "    <tr>\n",
              "      <th>129961</th>\n",
              "      <td>129961</td>\n",
              "      <td>Italy</td>\n",
              "      <td>Intense aromas of wild cherry, baking spice, t...</td>\n",
              "      <td>NaN</td>\n",
              "      <td>90</td>\n",
              "      <td>30.0</td>\n",
              "      <td>Sicily &amp; Sardinia</td>\n",
              "      <td>Sicilia</td>\n",
              "      <td>NaN</td>\n",
              "      <td>Kerin O’Keefe</td>\n",
              "      <td>@kerinokeefe</td>\n",
              "      <td>COS 2013 Frappato (Sicilia)</td>\n",
              "      <td>Frappato</td>\n",
              "      <td>COS</td>\n",
              "    </tr>\n",
              "    <tr>\n",
              "      <th>129962</th>\n",
              "      <td>129962</td>\n",
              "      <td>Italy</td>\n",
              "      <td>Blackberry, cassis, grilled herb and toasted a...</td>\n",
              "      <td>Sàgana Tenuta San Giacomo</td>\n",
              "      <td>90</td>\n",
              "      <td>40.0</td>\n",
              "      <td>Sicily &amp; Sardinia</td>\n",
              "      <td>Sicilia</td>\n",
              "      <td>NaN</td>\n",
              "      <td>Kerin O’Keefe</td>\n",
              "      <td>@kerinokeefe</td>\n",
              "      <td>Cusumano 2012 Sàgana Tenuta San Giacomo Nero d...</td>\n",
              "      <td>Nero d'Avola</td>\n",
              "      <td>Cusumano</td>\n",
              "    </tr>\n",
              "  </tbody>\n",
              "</table>\n",
              "<p>19540 rows × 14 columns</p>\n",
              "</div>"
            ],
            "text/plain": [
              "        Unnamed: 0 country  ...       variety           winery\n",
              "0                0   Italy  ...   White Blend          Nicosia\n",
              "6                6   Italy  ...      Frappato  Terre di Giurfo\n",
              "...            ...     ...  ...           ...              ...\n",
              "129961      129961   Italy  ...      Frappato              COS\n",
              "129962      129962   Italy  ...  Nero d'Avola         Cusumano\n",
              "\n",
              "[19540 rows x 14 columns]"
            ]
          },
          "metadata": {
            "tags": []
          },
          "execution_count": 61
        }
      ]
    },
    {
      "cell_type": "markdown",
      "metadata": {
        "id": "y7rhKLCpAvr9"
      },
      "source": [
        "Create a DataFrame top_oceania_wines containing all reviews with at least 95 points (out of 100) for wines from Australia or New Zealand."
      ]
    },
    {
      "cell_type": "code",
      "metadata": {
        "colab": {
          "base_uri": "https://localhost:8080/",
          "height": 593
        },
        "id": "K1WhGlFmAyId",
        "outputId": "831801e3-dcb8-43e3-9e63-2979b2278ebe"
      },
      "source": [
        "top_oceania_wines = reviews.loc[\r\n",
        "    (reviews.country.isin(['Australia', 'New Zealand']))\r\n",
        "    & (reviews.points >= 95)]\r\n",
        "top_oceania_wines"
      ],
      "execution_count": 63,
      "outputs": [
        {
          "output_type": "execute_result",
          "data": {
            "text/html": [
              "<div>\n",
              "<style scoped>\n",
              "    .dataframe tbody tr th:only-of-type {\n",
              "        vertical-align: middle;\n",
              "    }\n",
              "\n",
              "    .dataframe tbody tr th {\n",
              "        vertical-align: top;\n",
              "    }\n",
              "\n",
              "    .dataframe thead th {\n",
              "        text-align: right;\n",
              "    }\n",
              "</style>\n",
              "<table border=\"1\" class=\"dataframe\">\n",
              "  <thead>\n",
              "    <tr style=\"text-align: right;\">\n",
              "      <th></th>\n",
              "      <th>Unnamed: 0</th>\n",
              "      <th>country</th>\n",
              "      <th>description</th>\n",
              "      <th>designation</th>\n",
              "      <th>points</th>\n",
              "      <th>price</th>\n",
              "      <th>province</th>\n",
              "      <th>region_1</th>\n",
              "      <th>region_2</th>\n",
              "      <th>taster_name</th>\n",
              "      <th>taster_twitter_handle</th>\n",
              "      <th>title</th>\n",
              "      <th>variety</th>\n",
              "      <th>winery</th>\n",
              "    </tr>\n",
              "  </thead>\n",
              "  <tbody>\n",
              "    <tr>\n",
              "      <th>345</th>\n",
              "      <td>345</td>\n",
              "      <td>Australia</td>\n",
              "      <td>This wine contains some material over 100 year...</td>\n",
              "      <td>Rare</td>\n",
              "      <td>100</td>\n",
              "      <td>350.0</td>\n",
              "      <td>Victoria</td>\n",
              "      <td>Rutherglen</td>\n",
              "      <td>NaN</td>\n",
              "      <td>Joe Czerwinski</td>\n",
              "      <td>@JoeCz</td>\n",
              "      <td>Chambers Rosewood Vineyards NV Rare Muscat (Ru...</td>\n",
              "      <td>Muscat</td>\n",
              "      <td>Chambers Rosewood Vineyards</td>\n",
              "    </tr>\n",
              "    <tr>\n",
              "      <th>346</th>\n",
              "      <td>346</td>\n",
              "      <td>Australia</td>\n",
              "      <td>This deep brown wine smells like a damp, mossy...</td>\n",
              "      <td>Rare</td>\n",
              "      <td>98</td>\n",
              "      <td>350.0</td>\n",
              "      <td>Victoria</td>\n",
              "      <td>Rutherglen</td>\n",
              "      <td>NaN</td>\n",
              "      <td>Joe Czerwinski</td>\n",
              "      <td>@JoeCz</td>\n",
              "      <td>Chambers Rosewood Vineyards NV Rare Muscadelle...</td>\n",
              "      <td>Muscadelle</td>\n",
              "      <td>Chambers Rosewood Vineyards</td>\n",
              "    </tr>\n",
              "    <tr>\n",
              "      <th>...</th>\n",
              "      <td>...</td>\n",
              "      <td>...</td>\n",
              "      <td>...</td>\n",
              "      <td>...</td>\n",
              "      <td>...</td>\n",
              "      <td>...</td>\n",
              "      <td>...</td>\n",
              "      <td>...</td>\n",
              "      <td>...</td>\n",
              "      <td>...</td>\n",
              "      <td>...</td>\n",
              "      <td>...</td>\n",
              "      <td>...</td>\n",
              "      <td>...</td>\n",
              "    </tr>\n",
              "    <tr>\n",
              "      <th>122507</th>\n",
              "      <td>122507</td>\n",
              "      <td>New Zealand</td>\n",
              "      <td>This blend of Cabernet Sauvignon (62.5%), Merl...</td>\n",
              "      <td>SQM Gimblett Gravels Cabernets/Merlot</td>\n",
              "      <td>95</td>\n",
              "      <td>79.0</td>\n",
              "      <td>Hawke's Bay</td>\n",
              "      <td>NaN</td>\n",
              "      <td>NaN</td>\n",
              "      <td>Joe Czerwinski</td>\n",
              "      <td>@JoeCz</td>\n",
              "      <td>Squawking Magpie 2014 SQM Gimblett Gravels Cab...</td>\n",
              "      <td>Bordeaux-style Red Blend</td>\n",
              "      <td>Squawking Magpie</td>\n",
              "    </tr>\n",
              "    <tr>\n",
              "      <th>122939</th>\n",
              "      <td>122939</td>\n",
              "      <td>Australia</td>\n",
              "      <td>Full-bodied and plush yet vibrant and imbued w...</td>\n",
              "      <td>The Factor</td>\n",
              "      <td>98</td>\n",
              "      <td>125.0</td>\n",
              "      <td>South Australia</td>\n",
              "      <td>Barossa Valley</td>\n",
              "      <td>NaN</td>\n",
              "      <td>Joe Czerwinski</td>\n",
              "      <td>@JoeCz</td>\n",
              "      <td>Torbreck 2013 The Factor Shiraz (Barossa Valley)</td>\n",
              "      <td>Shiraz</td>\n",
              "      <td>Torbreck</td>\n",
              "    </tr>\n",
              "  </tbody>\n",
              "</table>\n",
              "<p>49 rows × 14 columns</p>\n",
              "</div>"
            ],
            "text/plain": [
              "        Unnamed: 0  ...                       winery\n",
              "345            345  ...  Chambers Rosewood Vineyards\n",
              "346            346  ...  Chambers Rosewood Vineyards\n",
              "...            ...  ...                          ...\n",
              "122507      122507  ...             Squawking Magpie\n",
              "122939      122939  ...                     Torbreck\n",
              "\n",
              "[49 rows x 14 columns]"
            ]
          },
          "metadata": {
            "tags": []
          },
          "execution_count": 63
        }
      ]
    },
    {
      "cell_type": "markdown",
      "metadata": {
        "id": "V6gkQP1wBKbs"
      },
      "source": [
        "# **Exercise: Summary Functions and Maps**"
      ]
    },
    {
      "cell_type": "markdown",
      "metadata": {
        "id": "bqpKO7DXBOF8"
      },
      "source": [
        "What is the median of the points column in the reviews DataFrame?"
      ]
    },
    {
      "cell_type": "code",
      "metadata": {
        "colab": {
          "base_uri": "https://localhost:8080/"
        },
        "id": "l72FYWsuBNQf",
        "outputId": "5bc19c9b-86ab-4f21-f1a6-7ad9d0f80452"
      },
      "source": [
        "median_points = reviews.points.median()\r\n",
        "median_points"
      ],
      "execution_count": 65,
      "outputs": [
        {
          "output_type": "execute_result",
          "data": {
            "text/plain": [
              "88.0"
            ]
          },
          "metadata": {
            "tags": []
          },
          "execution_count": 65
        }
      ]
    },
    {
      "cell_type": "markdown",
      "metadata": {
        "id": "3nLldggMBUuO"
      },
      "source": [
        "What countries are represented in the dataset? (Your answer should not include any duplicates.)"
      ]
    },
    {
      "cell_type": "code",
      "metadata": {
        "colab": {
          "base_uri": "https://localhost:8080/"
        },
        "id": "w__urIMvBWdX",
        "outputId": "765b60e2-9ea4-4ed3-d462-934ab23bf9f2"
      },
      "source": [
        "countries = reviews.country.unique()\r\n",
        "countries"
      ],
      "execution_count": 67,
      "outputs": [
        {
          "output_type": "execute_result",
          "data": {
            "text/plain": [
              "array(['Italy', 'Portugal', 'US', 'Spain', 'France', 'Germany',\n",
              "       'Argentina', 'Chile', 'Australia', 'Austria', 'South Africa',\n",
              "       'New Zealand', 'Israel', 'Hungary', 'Greece', 'Romania', 'Mexico',\n",
              "       'Canada', nan, 'Turkey', 'Czech Republic', 'Slovenia',\n",
              "       'Luxembourg', 'Croatia', 'Georgia', 'Uruguay', 'England',\n",
              "       'Lebanon', 'Serbia', 'Brazil', 'Moldova', 'Morocco', 'Peru',\n",
              "       'India', 'Bulgaria', 'Cyprus', 'Armenia', 'Switzerland',\n",
              "       'Bosnia and Herzegovina', 'Ukraine', 'Slovakia', 'Macedonia',\n",
              "       'China', 'Egypt'], dtype=object)"
            ]
          },
          "metadata": {
            "tags": []
          },
          "execution_count": 67
        }
      ]
    },
    {
      "cell_type": "markdown",
      "metadata": {
        "id": "Uhi6Zh-dBbSA"
      },
      "source": [
        "How often does each country appear in the dataset? Create a Series reviews_per_country mapping countries to the count of reviews of wines from that country."
      ]
    },
    {
      "cell_type": "code",
      "metadata": {
        "colab": {
          "base_uri": "https://localhost:8080/"
        },
        "id": "b-TnVJdWBa9y",
        "outputId": "f8ca9715-d793-48b2-9129-b8617d473312"
      },
      "source": [
        "reviews_per_country = reviews.country.value_counts()\r\n",
        "reviews_per_country"
      ],
      "execution_count": 69,
      "outputs": [
        {
          "output_type": "execute_result",
          "data": {
            "text/plain": [
              "US          54504\n",
              "France      22093\n",
              "            ...  \n",
              "Slovakia        1\n",
              "Egypt           1\n",
              "Name: country, Length: 43, dtype: int64"
            ]
          },
          "metadata": {
            "tags": []
          },
          "execution_count": 69
        }
      ]
    },
    {
      "cell_type": "markdown",
      "metadata": {
        "id": "M4_VrfAFBh1Y"
      },
      "source": [
        "Create variable centered_price containing a version of the price column with the mean price subtracted.\r\n",
        "\r\n",
        "(Note: this 'centering' transformation is a common preprocessing step before applying various machine learning algorithms.)"
      ]
    },
    {
      "cell_type": "code",
      "metadata": {
        "colab": {
          "base_uri": "https://localhost:8080/"
        },
        "id": "HnoRJ1B_Bjrw",
        "outputId": "6d5eeb4c-f67a-4d43-c95e-fd40036d917b"
      },
      "source": [
        "centered_price = reviews.price - reviews.price.mean()\r\n",
        "centered_price"
      ],
      "execution_count": 70,
      "outputs": [
        {
          "output_type": "execute_result",
          "data": {
            "text/plain": [
              "0               NaN\n",
              "1        -20.363389\n",
              "            ...    \n",
              "129969    -3.363389\n",
              "129970   -14.363389\n",
              "Name: price, Length: 129971, dtype: float64"
            ]
          },
          "metadata": {
            "tags": []
          },
          "execution_count": 70
        }
      ]
    },
    {
      "cell_type": "markdown",
      "metadata": {
        "id": "gWBmyelGBnuz"
      },
      "source": [
        "I'm an economical wine buyer. Which wine is the \"best bargain\"? Create a variable bargain_wine with the title of the wine with the highest points-to-price ratio in the dataset."
      ]
    },
    {
      "cell_type": "code",
      "metadata": {
        "colab": {
          "base_uri": "https://localhost:8080/",
          "height": 34
        },
        "id": "6Sw5CDw0Bnc3",
        "outputId": "d77e2521-3c36-4361-eec0-49e2413a9de6"
      },
      "source": [
        "bargain_idx = (reviews.points / reviews.price).idxmax()\r\n",
        "bargain_wine = reviews.loc[bargain_idx, 'title']\r\n",
        "bargain_wine"
      ],
      "execution_count": 71,
      "outputs": [
        {
          "output_type": "execute_result",
          "data": {
            "application/vnd.google.colaboratory.intrinsic+json": {
              "type": "string"
            },
            "text/plain": [
              "'Bandit NV Merlot (California)'"
            ]
          },
          "metadata": {
            "tags": []
          },
          "execution_count": 71
        }
      ]
    },
    {
      "cell_type": "markdown",
      "metadata": {
        "id": "u23wHNyaBvgP"
      },
      "source": [
        "There are only so many words you can use when describing a bottle of wine. Is a wine more likely to be \"tropical\" or \"fruity\"? Create a Series descriptor_counts counting how many times each of these two words appears in the description column in the dataset."
      ]
    },
    {
      "cell_type": "code",
      "metadata": {
        "colab": {
          "base_uri": "https://localhost:8080/"
        },
        "id": "K-rRVnacBwb9",
        "outputId": "80797573-6c7f-494b-be71-91b50327b6bb"
      },
      "source": [
        "n_trop = reviews.description.map(lambda desc: \"tropical\" in desc).sum()\r\n",
        "n_fruity = reviews.description.map(lambda desc: \"fruity\" in desc).sum()\r\n",
        "descriptor_counts = pd.Series([n_trop, n_fruity], index=['tropical', 'fruity'])\r\n",
        "descriptor_counts"
      ],
      "execution_count": 72,
      "outputs": [
        {
          "output_type": "execute_result",
          "data": {
            "text/plain": [
              "tropical    3607\n",
              "fruity      9090\n",
              "dtype: int64"
            ]
          },
          "metadata": {
            "tags": []
          },
          "execution_count": 72
        }
      ]
    },
    {
      "cell_type": "markdown",
      "metadata": {
        "id": "DQNh8dzTB27I"
      },
      "source": [
        "We'd like to host these wine reviews on our website, but a rating system ranging from 80 to 100 points is too hard to understand - we'd like to translate them into simple star ratings. A score of 95 or higher counts as 3 stars, a score of at least 85 but less than 95 is 2 stars. Any other score is 1 star.\r\n",
        "\r\n",
        "Also, the Canadian Vintners Association bought a lot of ads on the site, so any wines from Canada should automatically get 3 stars, regardless of points.\r\n",
        "\r\n",
        "Create a series star_ratings with the number of stars corresponding to each review in the dataset."
      ]
    },
    {
      "cell_type": "code",
      "metadata": {
        "id": "sS5qHGRpB4wo"
      },
      "source": [
        "def stars(row):\r\n",
        "    if row.country == 'Canada':\r\n",
        "        return 3\r\n",
        "    elif row.points >= 95:\r\n",
        "        return 3\r\n",
        "    elif row.points >= 85:\r\n",
        "        return 2\r\n",
        "    else:\r\n",
        "        return 1\r\n",
        "\r\n",
        "star_ratings = reviews.apply(stars, axis='columns')\r\n"
      ],
      "execution_count": 83,
      "outputs": []
    }
  ]
}