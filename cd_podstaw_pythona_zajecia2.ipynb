{
  "nbformat": 4,
  "nbformat_minor": 0,
  "metadata": {
    "kernelspec": {
      "display_name": "Python 3",
      "language": "python",
      "name": "python3"
    },
    "language_info": {
      "codemirror_mode": {
        "name": "ipython",
        "version": 3
      },
      "file_extension": ".py",
      "mimetype": "text/x-python",
      "name": "python",
      "nbconvert_exporter": "python",
      "pygments_lexer": "ipython3",
      "version": "3.7.3"
    },
    "colab": {
      "name": "cd_podstaw_pythona_zajecia2.ipynb",
      "provenance": [],
      "include_colab_link": true
    }
  },
  "cells": [
    {
      "cell_type": "markdown",
      "metadata": {
        "id": "view-in-github",
        "colab_type": "text"
      },
      "source": [
        "<a href=\"https://colab.research.google.com/github/Markan281/misp/blob/main/cd_podstaw_pythona_zajecia2.ipynb\" target=\"_parent\"><img src=\"https://colab.research.google.com/assets/colab-badge.svg\" alt=\"Open In Colab\"/></a>"
      ]
    },
    {
      "cell_type": "code",
      "metadata": {
        "id": "atox5dnrZHBN"
      },
      "source": [
        "import numpy as np"
      ],
      "execution_count": null,
      "outputs": []
    },
    {
      "cell_type": "code",
      "metadata": {
        "id": "3ZrMYaLsZHBY"
      },
      "source": [
        "a_list= [1,2,3,4,5, [1,2,3], \"temat\"] # nie idealna lista\n",
        "k_krotka = (1,2,3,4,5, [1,2,3], \"temat\")\n",
        "b_list = [1,2,3,4,5]\n",
        "n_array = np.array(b_list) # wektor numpy\n"
      ],
      "execution_count": null,
      "outputs": []
    },
    {
      "cell_type": "code",
      "metadata": {
        "id": "yMWkFA6HZHBi",
        "colab": {
          "base_uri": "https://localhost:8080/",
          "height": 34
        },
        "outputId": "a6e31d22-8191-4f73-83ee-7a81f4a935eb"
      },
      "source": [
        "a_list+b_list\n",
        "n_array+n_array"
      ],
      "execution_count": null,
      "outputs": [
        {
          "output_type": "execute_result",
          "data": {
            "text/plain": [
              "array([ 2,  4,  6,  8, 10])"
            ]
          },
          "metadata": {
            "tags": []
          },
          "execution_count": 72
        }
      ]
    },
    {
      "cell_type": "code",
      "metadata": {
        "id": "OvQWkn6oZHBs",
        "colab": {
          "base_uri": "https://localhost:8080/",
          "height": 34
        },
        "outputId": "092db1a0-84f1-4cb3-cf41-c6a26732a747"
      },
      "source": [
        "a_list[3]"
      ],
      "execution_count": null,
      "outputs": [
        {
          "output_type": "execute_result",
          "data": {
            "text/plain": [
              "4"
            ]
          },
          "metadata": {
            "tags": []
          },
          "execution_count": 6
        }
      ]
    },
    {
      "cell_type": "code",
      "metadata": {
        "id": "BEclpzS6ZHBw",
        "outputId": "ce5271d9-e075-4722-f97a-54198e5a199d"
      },
      "source": [
        "a_list.append(100)\n",
        "print(a_list)"
      ],
      "execution_count": null,
      "outputs": [
        {
          "output_type": "stream",
          "text": [
            "[1, 2, 3, 4, 5, [1, 2, 3], 'temat', 100, 100]\n"
          ],
          "name": "stdout"
        }
      ]
    },
    {
      "cell_type": "code",
      "metadata": {
        "id": "1B_JBBwwZHBz",
        "outputId": "6e29047a-4ed9-40b3-92fe-13894ed2e9d3"
      },
      "source": [
        "k_krotka[4]"
      ],
      "execution_count": null,
      "outputs": [
        {
          "output_type": "execute_result",
          "data": {
            "text/plain": [
              "5"
            ]
          },
          "metadata": {
            "tags": []
          },
          "execution_count": 13
        }
      ]
    },
    {
      "cell_type": "code",
      "metadata": {
        "id": "xdGm8_wfZHB3",
        "outputId": "650ef426-5375-47e3-b5f5-a6a98216030f"
      },
      "source": [
        "k_krotka.append(100)"
      ],
      "execution_count": null,
      "outputs": [
        {
          "output_type": "error",
          "ename": "AttributeError",
          "evalue": "'tuple' object has no attribute 'append'",
          "traceback": [
            "\u001b[0;31m---------------------------------------------------------------------------\u001b[0m",
            "\u001b[0;31mAttributeError\u001b[0m                            Traceback (most recent call last)",
            "\u001b[0;32m<ipython-input-14-4da2f0146474>\u001b[0m in \u001b[0;36m<module>\u001b[0;34m\u001b[0m\n\u001b[0;32m----> 1\u001b[0;31m \u001b[0mk_krotka\u001b[0m\u001b[0;34m.\u001b[0m\u001b[0mappend\u001b[0m\u001b[0;34m(\u001b[0m\u001b[0;36m100\u001b[0m\u001b[0;34m)\u001b[0m\u001b[0;34m\u001b[0m\u001b[0;34m\u001b[0m\u001b[0m\n\u001b[0m",
            "\u001b[0;31mAttributeError\u001b[0m: 'tuple' object has no attribute 'append'"
          ]
        }
      ]
    },
    {
      "cell_type": "code",
      "metadata": {
        "id": "oytlT9McZHB7",
        "outputId": "e410b33f-cfa3-47c8-9577-39b165d79aec"
      },
      "source": [
        "np.array(b_list)+np.array(b_list)"
      ],
      "execution_count": null,
      "outputs": [
        {
          "output_type": "execute_result",
          "data": {
            "text/plain": [
              "array([ 2,  4,  6,  8, 10])"
            ]
          },
          "metadata": {
            "tags": []
          },
          "execution_count": 8
        }
      ]
    },
    {
      "cell_type": "code",
      "metadata": {
        "id": "olEgz1NJZHB-"
      },
      "source": [
        "n_array = np.array(a_list) # wektor numpy"
      ],
      "execution_count": null,
      "outputs": []
    },
    {
      "cell_type": "code",
      "metadata": {
        "id": "nwfEFqAFZHCC",
        "outputId": "f3860163-7a3a-4359-d2c4-6f6c6c32b9cf"
      },
      "source": [
        "n_array"
      ],
      "execution_count": null,
      "outputs": [
        {
          "output_type": "execute_result",
          "data": {
            "text/plain": [
              "array([1, 2, 3, 4, 5, list([1, 2, 3]), 'temat'], dtype=object)"
            ]
          },
          "metadata": {
            "tags": []
          },
          "execution_count": 10
        }
      ]
    },
    {
      "cell_type": "code",
      "metadata": {
        "id": "2c4bzR9gZHCF"
      },
      "source": [
        "#### Nowosci\n",
        "\n",
        "studenci_slownik = {123: 123,\"Igor\":3, \"Frankek\":5, \"Zosia\":22,\"Julia\":[2,21], (1,2):\"Krotka\"}"
      ],
      "execution_count": null,
      "outputs": []
    },
    {
      "cell_type": "code",
      "metadata": {
        "id": "UZyeh-1GZHCI",
        "outputId": "42db2f5b-3ee5-4c73-8aa9-44bdcdd9a36e"
      },
      "source": [
        "print(studenci_slownik)"
      ],
      "execution_count": null,
      "outputs": [
        {
          "output_type": "stream",
          "text": [
            "{123: 123, 'Igor': 3, 'Frankek': 5, 'Zosia': 22, 'Julia': [2, 21], (1, 2): 'Krotka'}\n"
          ],
          "name": "stdout"
        }
      ]
    },
    {
      "cell_type": "code",
      "metadata": {
        "id": "obyZrY1JZHCK",
        "outputId": "331c9caa-fb1f-4c4e-e017-10ddbe5e148a"
      },
      "source": [
        "studenci_slownik[\"Zosia\"]"
      ],
      "execution_count": null,
      "outputs": [
        {
          "output_type": "execute_result",
          "data": {
            "text/plain": [
              "22"
            ]
          },
          "metadata": {
            "tags": []
          },
          "execution_count": 21
        }
      ]
    },
    {
      "cell_type": "code",
      "metadata": {
        "id": "d241czqbZHCN",
        "outputId": "4d9b9773-0251-435a-affa-ea6ab3028c20"
      },
      "source": [
        "for elementy in studenci_slownik:\n",
        "    print(elementy)\n",
        "\n",
        "print(\"*\"*20)\n",
        "for elementy in studenci_slownik.keys():\n",
        "    print(elementy)"
      ],
      "execution_count": null,
      "outputs": [
        {
          "output_type": "stream",
          "text": [
            "123\n",
            "Igor\n",
            "Frankek\n",
            "Zosia\n",
            "Julia\n",
            "(1, 2)\n",
            "********************\n",
            "123\n",
            "Igor\n",
            "Frankek\n",
            "Zosia\n",
            "Julia\n",
            "(1, 2)\n"
          ],
          "name": "stdout"
        }
      ]
    },
    {
      "cell_type": "code",
      "metadata": {
        "id": "yE10VgjQZHCQ",
        "outputId": "f5e64b12-42b0-4ee4-d9f7-c09d61418dc7"
      },
      "source": [
        "for elementy in studenci_slownik.items():\n",
        "    print(elementy)"
      ],
      "execution_count": null,
      "outputs": [
        {
          "output_type": "stream",
          "text": [
            "('Igor', 3)\n",
            "('Frankek', 5)\n",
            "('Zosia', 22)\n",
            "('Julia', [2, 21])\n"
          ],
          "name": "stdout"
        }
      ]
    },
    {
      "cell_type": "code",
      "metadata": {
        "id": "J7HzhHI2ZHCU",
        "outputId": "083a5202-f1a0-4bef-939c-7cac66f923bd"
      },
      "source": [
        "for elementy in studenci_slownik.values():\n",
        "    print(elementy)"
      ],
      "execution_count": null,
      "outputs": [
        {
          "output_type": "stream",
          "text": [
            "3\n",
            "5\n",
            "22\n",
            "[2, 21]\n"
          ],
          "name": "stdout"
        }
      ]
    },
    {
      "cell_type": "code",
      "metadata": {
        "id": "KMoC8wfWZHCX"
      },
      "source": [
        "studenci_slownik[\"Cuthulu\"]= -1000000"
      ],
      "execution_count": null,
      "outputs": []
    },
    {
      "cell_type": "code",
      "metadata": {
        "id": "QD0EM27FZHCa",
        "outputId": "fad0f96f-897e-4b3e-c747-ec8f4dc3e13f"
      },
      "source": [
        "studenci_slownik"
      ],
      "execution_count": null,
      "outputs": [
        {
          "output_type": "execute_result",
          "data": {
            "text/plain": [
              "{'Igor': 3, 'Frankek': 5, 'Zosia': 22, 'Julia': [2, 21], 'Cuthulu': -1000000}"
            ]
          },
          "metadata": {
            "tags": []
          },
          "execution_count": 31
        }
      ]
    },
    {
      "cell_type": "code",
      "metadata": {
        "id": "5wb8oE_vZHCd",
        "outputId": "1278fc4c-95d2-4510-e33d-9eed3a690d64"
      },
      "source": [
        "automatyczna_lista=[liczba**2 for liczba in range(100) if liczba%4==0]\n",
        "print(automatyczna_lista)"
      ],
      "execution_count": null,
      "outputs": [
        {
          "output_type": "stream",
          "text": [
            "[0, 16, 64, 144, 256, 400, 576, 784, 1024, 1296, 1600, 1936, 2304, 2704, 3136, 3600, 4096, 4624, 5184, 5776, 6400, 7056, 7744, 8464, 9216]\n"
          ],
          "name": "stdout"
        }
      ]
    },
    {
      "cell_type": "code",
      "metadata": {
        "id": "72VCG_THZHCh",
        "outputId": "a6d79e6f-29b7-4752-e140-e2e18ac6fe16"
      },
      "source": [
        "studenci = studenci_slownik.keys()\n",
        "automatyczny_slownik=dict(para for para in enumerate(studenci))\n",
        "print(automatyczny_slownik)"
      ],
      "execution_count": null,
      "outputs": [
        {
          "output_type": "stream",
          "text": [
            "{0: 'Igor', 1: 'Frankek', 2: 'Zosia', 3: 'Julia', 4: 'Cuthulu'}\n"
          ],
          "name": "stdout"
        }
      ]
    },
    {
      "cell_type": "code",
      "metadata": {
        "id": "asG9k4pDZHCk"
      },
      "source": [
        "##### zbiory\n",
        "\n",
        "a={1,2,3,\"Franek\"}\n",
        "b={2,3,4,\"Franek\"}\n"
      ],
      "execution_count": null,
      "outputs": []
    },
    {
      "cell_type": "code",
      "metadata": {
        "id": "x2jQmhftZHCn",
        "outputId": "d1cd2f64-bc93-43c6-8d2d-508117d4db6b"
      },
      "source": [
        "a|b #suma zbiorów, sum of sets"
      ],
      "execution_count": null,
      "outputs": [
        {
          "output_type": "execute_result",
          "data": {
            "text/plain": [
              "{1, 2, 3, 4, 'Franek'}"
            ]
          },
          "metadata": {
            "tags": []
          },
          "execution_count": 23
        }
      ]
    },
    {
      "cell_type": "code",
      "metadata": {
        "id": "3WsSmXmCZHCq",
        "outputId": "6f3cd1b9-6a9e-4c30-e789-aad61d7df11d"
      },
      "source": [
        "a.add(\"Franek\")\n",
        "print(a)"
      ],
      "execution_count": null,
      "outputs": [
        {
          "output_type": "stream",
          "text": [
            "{1, 2, 3, 'Franek'}\n"
          ],
          "name": "stdout"
        }
      ]
    },
    {
      "cell_type": "code",
      "metadata": {
        "id": "9tXWivO-ZHCt",
        "outputId": "4e1d2188-9d20-4125-df9a-660ea6ebdbc1"
      },
      "source": [
        "1 in a\n",
        "\"Igor\" in studenci_slownik"
      ],
      "execution_count": null,
      "outputs": [
        {
          "output_type": "execute_result",
          "data": {
            "text/plain": [
              "True"
            ]
          },
          "metadata": {
            "tags": []
          },
          "execution_count": 25
        }
      ]
    },
    {
      "cell_type": "markdown",
      "metadata": {
        "id": "hZ3NCYHYZHCx"
      },
      "source": [
        "### Własne typy"
      ]
    },
    {
      "cell_type": "code",
      "metadata": {
        "id": "rdduuYI1ZHCx"
      },
      "source": [
        "zajecia = [[\"wf\"],\n",
        "           [\"informatyka\", \"nauka czytania\"],\n",
        "           [\"relax\", \"jedzenie\"],\n",
        "           [\"mispy\",\"mispy w domu\"],\n",
        "           [\"piateczek\", \"praca domowa z mispow\", \"Ilovemispy\", \"mispy w czasie snu\"]\n",
        "          ]\n",
        "\n",
        "dnityg= [\"Pon\",\"Wto\",\"Sro\",\"Czwar\",\"Pio\"]\n",
        "\n",
        "def dodaj_dwie_liczby(liczba1,liczba2):\n",
        "    return liczba1+liczba2"
      ],
      "execution_count": null,
      "outputs": []
    },
    {
      "cell_type": "code",
      "metadata": {
        "id": "Aef-xg9VZHC0"
      },
      "source": [
        "class DzienZajec():\n",
        "    \"\"\"obiekt trzymający dany dzień zajęć i przypisane mu metody\"\"\"\n",
        "    \n",
        "    \n",
        "    def __init__(self, lista_na_dany_dzien, nazwa_dnia): #definicja\n",
        "        self.lista_zajec= lista_na_dany_dzien\n",
        "        self.dzien = nazwa_dnia\n",
        "        \n",
        "\n",
        "    \n",
        "    def ile_mispow(self):\n",
        "        ile_m = sum([1 for zajecie in self.lista_zajec if \"misp\" in zajecie.lower()])\n",
        "        return ile_m\n",
        "\n",
        "    @property #zamienia na wlasciwosc   \n",
        "    def ile_zajec(self):\n",
        "        return len(self.lista_zajec)\n",
        "    \n",
        "    def __repr__(self):\n",
        "        zajecia_do_stringa = \", \".join(self.lista_zajec)\n",
        "        return \"W dzien {} mam zajecia: {}\".format(self.dzien, zajecia_do_stringa)\n",
        "    "
      ],
      "execution_count": null,
      "outputs": []
    },
    {
      "cell_type": "code",
      "metadata": {
        "id": "uv1lO_LiZHC4"
      },
      "source": [
        "pio_zajecia = DzienZajec([\"piateczek\", \"praca domowa z mispow\", \"Ilovemispy\", \"mispy w czasie snu\"],\n",
        "                        \"piatek\")"
      ],
      "execution_count": null,
      "outputs": []
    },
    {
      "cell_type": "code",
      "metadata": {
        "id": "YlOJjN01ZHDA",
        "outputId": "3257c952-fa1a-481c-a5e8-cefe726b0cb1"
      },
      "source": [
        "pio_zajecia.ile_zajec"
      ],
      "execution_count": null,
      "outputs": [
        {
          "output_type": "execute_result",
          "data": {
            "text/plain": [
              "4"
            ]
          },
          "metadata": {
            "tags": []
          },
          "execution_count": 32
        }
      ]
    },
    {
      "cell_type": "code",
      "metadata": {
        "id": "fmnxV6BiZHDD",
        "outputId": "214b226b-bdc2-4546-f9ca-b489ab73f40b"
      },
      "source": [
        "print(pio_zajecia)"
      ],
      "execution_count": null,
      "outputs": [
        {
          "output_type": "stream",
          "text": [
            "W dzien piatek mam zajecia: piateczek, praca domowa z mispow, Ilovemispy, mispy w czasie snu\n"
          ],
          "name": "stdout"
        }
      ]
    },
    {
      "cell_type": "code",
      "metadata": {
        "id": "PbrCfL7PZHDG",
        "outputId": "40bd695e-f434-4437-a438-ccc694d19c5c"
      },
      "source": [
        "pio_zajecia.lista_zajec"
      ],
      "execution_count": null,
      "outputs": [
        {
          "output_type": "execute_result",
          "data": {
            "text/plain": [
              "['piateczek', 'praca domowa z mispow', 'Ilovemispy', 'mispy w czasie snu']"
            ]
          },
          "metadata": {
            "tags": []
          },
          "execution_count": 33
        }
      ]
    },
    {
      "cell_type": "code",
      "metadata": {
        "id": "cGX4D-ZSZHDL",
        "outputId": "c440f6be-a4cd-4ca1-c811-428659e476a5"
      },
      "source": [
        "pio_zajecia.lista_zajec.append(\"MISP\")\n",
        "print(pio_zajecia.lista_zajec)"
      ],
      "execution_count": null,
      "outputs": [
        {
          "output_type": "stream",
          "text": [
            "['piateczek', 'praca domowa z mispow', 'Ilovemispy', 'mispy w czasie snu', 'MISP']\n"
          ],
          "name": "stdout"
        }
      ]
    },
    {
      "cell_type": "code",
      "metadata": {
        "id": "yaynQL-XZHDO",
        "outputId": "f5f39bff-31d7-4581-f409-aed9af834288"
      },
      "source": [
        "pio_zajecia.ile_mispow()"
      ],
      "execution_count": null,
      "outputs": [
        {
          "output_type": "execute_result",
          "data": {
            "text/plain": [
              "4"
            ]
          },
          "metadata": {
            "tags": []
          },
          "execution_count": 35
        }
      ]
    },
    {
      "cell_type": "code",
      "metadata": {
        "id": "mR5bqdzwZHDQ",
        "outputId": "ca0cf7eb-1af2-4e05-a225-9acf98129f9d"
      },
      "source": [
        "print(pio_zajecia.lista_zajec)\n"
      ],
      "execution_count": null,
      "outputs": [
        {
          "output_type": "stream",
          "text": [
            "['piateczek', 'praca domowa z mispow', 'Ilovemispy', 'mispy w czasie snu', 'MISP']\n"
          ],
          "name": "stdout"
        }
      ]
    },
    {
      "cell_type": "code",
      "metadata": {
        "id": "MN6WUs05ZHDT",
        "outputId": "359f34cb-1c81-48aa-bd3f-57ac0c92204d"
      },
      "source": [
        "pio_zajecia"
      ],
      "execution_count": null,
      "outputs": [
        {
          "output_type": "execute_result",
          "data": {
            "text/plain": [
              "W dzien piatek mam zajecia: piateczek, praca domowa z mispow, Ilovemispy, mispy w czasie snu, MISP"
            ]
          },
          "metadata": {
            "tags": []
          },
          "execution_count": 85
        }
      ]
    },
    {
      "cell_type": "code",
      "metadata": {
        "id": "lD9tJbDTZHDW",
        "outputId": "eda5ffa9-72a6-4ff8-9e0a-7af5c39c063f"
      },
      "source": [
        "print(pio_zajecia.ile_zajec)"
      ],
      "execution_count": null,
      "outputs": [
        {
          "output_type": "stream",
          "text": [
            "5\n"
          ],
          "name": "stdout"
        }
      ]
    },
    {
      "cell_type": "code",
      "metadata": {
        "id": "N8D2YX-nZHDZ"
      },
      "source": [
        "lista_zajec= [DzienZajec(lista_dzien, dzien) for lista_dzien, dzien in \n",
        "             zip(zajecia,dnityg)]"
      ],
      "execution_count": null,
      "outputs": []
    },
    {
      "cell_type": "code",
      "metadata": {
        "id": "YfJ5WPoEZHDb",
        "outputId": "78875241-b5f7-4a9d-f0a6-c9924ccde265"
      },
      "source": [
        "print(lista_zajec)"
      ],
      "execution_count": null,
      "outputs": [
        {
          "output_type": "stream",
          "text": [
            "[W dzien Pon mam zajecia: wf, W dzien Wto mam zajecia: informatyka, nauka czytania, W dzien Sro mam zajecia: relax, jedzenie, W dzien Czwar mam zajecia: mispy, mispy w domu, W dzien Pio mam zajecia: piateczek, praca domowa z mispow, Ilovemispy, mispy w czasie snu]\n"
          ],
          "name": "stdout"
        }
      ]
    },
    {
      "cell_type": "code",
      "metadata": {
        "id": "qbUqlfCYZHDe"
      },
      "source": [
        "posortowane_po_zajeciach=sorted(lista_zajec, key= lambda zajecie: zajecie.ile_zajec)\n",
        "posortowane_po_mispach=sorted(lista_zajec, key= lambda zajecie: zajecie.ile_mispow())"
      ],
      "execution_count": null,
      "outputs": []
    },
    {
      "cell_type": "code",
      "metadata": {
        "id": "pjZNAx_DZHDh",
        "outputId": "70ad64ed-eb6f-45a6-b854-296055319170"
      },
      "source": [
        "print(posortowane_po_zajeciach)"
      ],
      "execution_count": null,
      "outputs": [
        {
          "output_type": "stream",
          "text": [
            "[W dzien Pon mam zajecia: wf, W dzien Wto mam zajecia: informatyka, nauka czytania, W dzien Sro mam zajecia: relax, jedzenie, W dzien Czwar mam zajecia: mispy, mispy w domu, W dzien Pio mam zajecia: piateczek, praca domowa z mispow, Ilovemispy, mispy w czasie snu]\n"
          ],
          "name": "stdout"
        }
      ]
    },
    {
      "cell_type": "code",
      "metadata": {
        "id": "G_KKsiQHZHDj",
        "outputId": "64fc7088-bfa9-4102-dbb2-a77fa13cf19f"
      },
      "source": [
        "print(posortowane_po_mispach)"
      ],
      "execution_count": null,
      "outputs": [
        {
          "output_type": "stream",
          "text": [
            "[W dzien Pon mam zajecia: wf, W dzien Wto mam zajecia: informatyka, nauka czytania, W dzien Sro mam zajecia: relax, jedzenie, W dzien Czwar mam zajecia: mispy, mispy w domu, W dzien Pio mam zajecia: piateczek, praca domowa z mispow, Ilovemispy, mispy w czasie snu]\n"
          ],
          "name": "stdout"
        }
      ]
    },
    {
      "cell_type": "markdown",
      "metadata": {
        "id": "u9ObwY4uZHDn"
      },
      "source": [
        "##### challenge 1\n",
        "\n",
        "Stworz typ NumerTelefonu\n",
        "\n",
        " -- przy tworzeniu sprawdza czy właściwy numer (Polski) jeśli nie pisze, że error (ew. Exception)\n",
        " \n",
        " -- gdy printuję to mi pisze polskimi słowami i.e. \"jeden, pięć, siedem, zero\"\n",
        " \n",
        " -- gdy wywołuję właściwość wojewodzwtwo, podaje mi wojewodztwo ew. ze to komorkowy\n",
        " \n",
        " "
      ]
    },
    {
      "cell_type": "code",
      "metadata": {
        "id": "DDK4flG4ZHDn",
        "colab": {
          "base_uri": "https://localhost:8080/"
        },
        "outputId": "ff6e0b5d-23d2-4c6d-da6b-9c292fae0865"
      },
      "source": [
        "# ma na takie rzeczy być w stanie odpowiedzieć\n",
        "class NumerTelefonu:\n",
        "  def __init__(self, numer):\n",
        "    self.numer = numer \n",
        "#Sprwadza czy numer jest z Poslki\n",
        "  def sprawdz_numer(self):\n",
        "    if len(self.numer) !=10:\n",
        "      if self.numer[0] == \"4\" and self.numer[1]== \"2\":\n",
        "        return \"poprawny numer z Polski\"\n",
        "      elif len(self.numer) == 9:\n",
        "        return \"Numer komorkowy\"\n",
        "      else:\n",
        "        return \"ew.Expection\"\n",
        "    else:\n",
        "      return \"ew.Expection\"\n",
        "#Sprwadza województwo z którego dzwoni numer \n",
        "  def wojweodztwo(self):\n",
        "    if self.numer[0] == \"7\" and self.numer[1]== \"5\" or self.numer[0] == \"7\" and self.numer[1]== \"6\" or self.numer[0] == \"7\" and self.numer[1]== \"4\" or self.numer[0] == \"7\" and self.numer[1]== \"1\" :\n",
        "      return \"Dolnośląskie\"\n",
        "    if self.numer[0] == \"5\" and self.numer[1]== \"2\" or self.numer[0] == \"5\" and self.numer[1]== \"6\" or self.numer[0] == \"5\" and self.numer[1]== \"4\" :\n",
        "      return \"Kujawsko-pomorskie\"\n",
        "    if self.numer[0] == \"8\" and self.numer[1]== \"3\" or self.numer[0] == \"8\" and self.numer[1]== \"2\" or self.numer[0] == \"8\" and self.numer[1]== \"1\" or self.numer[0] == \"8\" and self.numer[1]== \"4\" :\n",
        "      return \"Lubelskie\"\n",
        "    if self.numer[0] == \"9\" and self.numer[1]== \"9\" or self.numer[0] == \"5\" and self.numer[1]== \"6\" or self.numer[0] == \"8\" :\n",
        "      return \"Lubuskie\"\n",
        "    if self.numer[0] == \"4\" and self.numer[1]== \"2\" or self.numer[0] == \"4\" and self.numer[1]== \"4\" or self.numer[0] == \"4\" and self.numer[1]== \"3\" or self.numer[0] == \"4\" and self.numer[1]== \"6\" :\n",
        "      return \"Lodzkie\"\n",
        "    if self.numer[0] == \"1\" and self.numer[1]== \"2\" or self.numer[0] == \"1\" and self.numer[1]== \"8\" or self.numer[0] == \"1\" and self.numer[1]== \"4\" :\n",
        "      return \"Malopolskie\"\n",
        "    if self.numer[0] == \"2\" and self.numer[1]== \"3\" or self.numer[0] == \"2\" and self.numer[1]== \"9\" or self.numer[0] == \"2\" and self.numer[1]== \"4\" or self.numer[0] == \"4\" and self.numer[1]== \"8\" or self.numer[0] == \"2\" and self.numer[1]== \"5\" or self.numer[0] == \"2\" and self.numer[1]== \"2\":\n",
        "      return \"Mazowieckie\"\n",
        "    if self.numer[0] == \"8\" and self.numer[1]== \"5\" or self.numer[0] == \"8\" and self.numer[1]== \"6\" or self.numer[0] == \"8\" and self.numer[1]== \"7\" :\n",
        "      return \"Podlaskie\"  \n",
        "    if self.numer[0] == \"7\" and self.numer[1]== \"7\" :\n",
        "      return \"Opolskie\"\n",
        "    if self.numer[0] == \"1\" and self.numer[1]== \"3\" or self.numer[0] == \"1\" and self.numer[1]== \"6\" or self.numer[0] == \"1\" and self.numer[1]== \"7\" or self.numer[0] == \"1\" and self.numer[1]== \"5\" :\n",
        "      return \"Podkarpackie\"\n",
        "    if self.numer[0] == \"5\" and self.numer[1]== \"8\" or self.numer[0] == \"5\" and self.numer[1]== \"9\" :\n",
        "      return \"Pomorskie\"\n",
        "    if self.numer[0] == \"3\" and self.numer[1]== \"3\" or self.numer[0] == \"3\" and self.numer[1]== \"4\" or self.numer[0] == \"3\" and self.numer[1]== \"2\" :\n",
        "      return \"Slaskie\" \n",
        "    if self.numer[0] == \"4\" and self.numer[1]== \"1\" :\n",
        "      return \"Swietokrzyskie\"\n",
        "    if self.numer[0] == \"5\" and self.numer[1]== \"5\" or self.numer[0] == \"8\" and self.numer[1]== \"9\" :\n",
        "      return \"Warminsko-mazurskie\"\n",
        "    if self.numer[0] == \"9\" and self.numer[1]== \"4\" or self.numer[0] == \"9\" and self.numer[1]== \"1\" :\n",
        "      return \"Zachodnio-pomorskie\"\n",
        "    if self.numer[0] == \"6\" and self.numer[1]== \"2\" or self.numer[0] == \"6\" and self.numer[1]== \"3\" or self.numer[0] == \"6\" and self.numer[1]== \"5\" or self.numer[0] == \"6\" and self.numer[1]== \"7\" or self.numer[0] == \"6\" and self.numer[1]== \"1\" :\n",
        "      return \"Wielkopolskie\"\n",
        "  #Wypisuje liczby słownie\n",
        "  def _print(self):\n",
        "    lista = [\"1\",\"2\",\"3\",\"1\",\"2\",\"3\",\"1\",\"2\",\"3\"]\n",
        "    for i in range(0,9) :\n",
        "      if self.numer[i] == \"0\":\n",
        "        lista[i] = \"zero\"\n",
        "      if self.numer[i] == \"1\":\n",
        "        lista[i] = \"jeden\"\n",
        "      if self.numer[i] == \"2\":\n",
        "        lista[i] = \"dwa\"\n",
        "      if self.numer[i] == \"3\":\n",
        "        lista[i] = \"trzy\"\n",
        "      if self.numer[i] == \"4\":\n",
        "        lista[i] = \"cztery\"\n",
        "      if self.numer[i] == \"5\":\n",
        "        lista[i] = \"piec\"\n",
        "      if self.numer[i] == \"6\":\n",
        "        lista[i] = \"szesc\"\n",
        "      if self.numer[i] == \"7\":\n",
        "        lista[i] = \"siedem\"\n",
        "      if self.numer[i] == \"8\":\n",
        "        lista[i] = \"osiem\"\n",
        "      if self.numer[i] == \"9\":\n",
        "        lista[i] = \"dziewiec\" \n",
        "    return lista\n",
        "\n",
        "\n",
        "numer_lodz = NumerTelefonu(\"422602886\")\n",
        "print(numer_lodz.sprawdz_numer())\n",
        "print(numer_lodz.wojweodztwo())\n",
        "print(numer_lodz._print())\n",
        "\n",
        "\n",
        "\n"
      ],
      "execution_count": 1,
      "outputs": [
        {
          "output_type": "stream",
          "text": [
            "poprawny numer z Polski\n",
            "Lodzkie\n",
            "['cztery', 'dwa', 'dwa', 'szesc', 'zero', 'dwa', 'osiem', 'osiem', 'szesc']\n"
          ],
          "name": "stdout"
        }
      ]
    }
  ]
}